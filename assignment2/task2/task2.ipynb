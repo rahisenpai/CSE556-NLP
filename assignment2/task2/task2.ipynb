{
  "cells": [
    {
      "cell_type": "markdown",
      "metadata": {
        "id": "s0NGhRMW74Fx"
      },
      "source": [
        "# Task 2 - Aspect Based Sentiment Analysis\n",
        "The goal of this task is to perform Aspect-Based Sentiment Analysis (ABSA). Students will use the same train.json and val.json files as in Task 1 but will preprocess them differently.\n"
      ]
    },
    {
      "cell_type": "code",
      "execution_count": 1,
      "metadata": {
        "id": "tkjs6iK674Fz"
      },
      "outputs": [],
      "source": [
        "import re\n",
        "import math\n",
        "import json\n",
        "import random\n",
        "import numpy as np\n",
        "import pandas as pd\n",
        "from tqdm import tqdm\n",
        "import matplotlib.pyplot as plt\n",
        "\n",
        "import torch\n",
        "import torch.nn as nn\n",
        "import torch.optim as optim\n",
        "import torch.nn.functional as F\n",
        "from torch.utils.data import Dataset, DataLoader\n",
        "\n",
        "from sklearn.model_selection import train_test_split\n",
        "from sklearn.preprocessing import LabelEncoder\n",
        "\n",
        "from transformers import BertModel, BertTokenizer\n",
        "from transformers import BartModel, BartTokenizer\n",
        "from transformers import RobertaModel, RobertaTokenizer\n",
        "\n",
        "from transformers import set_seed\n",
        "set_seed(42)\n",
        "\n",
        "torch.manual_seed(42)\n",
        "np.random.seed(42)\n",
        "random.seed(42)\n",
        "torch.backends.cudnn.deterministic = True\n",
        "torch.backends.cudnn.benchmark = False\n",
        "\n"
      ]
    },
    {
      "cell_type": "markdown",
      "metadata": {
        "id": "IgHl2gDV74F0"
      },
      "source": [
        "## 2.1 Dataset\n",
        "### Training Dataset"
      ]
    },
    {
      "cell_type": "code",
      "execution_count": 2,
      "metadata": {
        "id": "T34D3VaE74F0"
      },
      "outputs": [],
      "source": [
        "with open('train.json', 'r') as file:\n",
        "    train_data = json.load(file)\n",
        "\n",
        "# print(train_data)"
      ]
    },
    {
      "cell_type": "markdown",
      "metadata": {
        "id": "g_0nZs-O-Wpx"
      },
      "source": [
        "### Validation Dataset"
      ]
    },
    {
      "cell_type": "code",
      "execution_count": 3,
      "metadata": {
        "id": "yl_gZWjA74F0"
      },
      "outputs": [],
      "source": [
        "with open('val.json', 'r') as file:\n",
        "    val_data = json.load(file)\n",
        "\n",
        "# print(val_data)"
      ]
    },
    {
      "cell_type": "markdown",
      "metadata": {
        "id": "akDOs-XN60Yu"
      },
      "source": [
        "\n",
        "## 2.2 Preprocessing\n",
        "Each aspect term is treated as an independent example, with its corresponding sentiment polarity and index in the sentence. The files should be saved as train task 2.json and val task 2.json."
      ]
    },
    {
      "cell_type": "code",
      "execution_count": 4,
      "metadata": {
        "id": "ABQwiHNQ74F0"
      },
      "outputs": [],
      "source": [
        "# function to tokenize the sentence\n",
        "\n",
        "def tokenize_sentence(sentence):\n",
        "    # remove all the symbols\n",
        "    clean_sentence = re.sub(r'[^\\w\\s]', '', sentence)\n",
        "    # splitting it on white space\n",
        "    tokens = clean_sentence.split()\n",
        "    return tokens\n"
      ]
    },
    {
      "cell_type": "code",
      "execution_count": 5,
      "metadata": {
        "id": "lztc4BrZ74F1"
      },
      "outputs": [],
      "source": [
        "# function to preprocess the data as in the Assignment\n",
        "\n",
        "def preprocess_data(data):\n",
        "\n",
        "    # initializing list to store the entries which have been pre-processed\n",
        "    processed_data = []\n",
        "\n",
        "    # iterating over all entries in the dataset\n",
        "    for entry in data:\n",
        "\n",
        "        original_sentence = entry['sentence']\n",
        "\n",
        "        tokens = tokenize_sentence(original_sentence)\n",
        "\n",
        "\n",
        "        for aspect_term in entry['aspect_terms']:\n",
        "\n",
        "            term = aspect_term['term']\n",
        "            polarity = aspect_term['polarity']\n",
        "            term_tokens = tokenize_sentence(term)\n",
        "\n",
        "            # initializing the index of aspect terms by -1\n",
        "            index = -1\n",
        "\n",
        "            # iterating over tokens and checking if the full aspect term matches in the sentence\n",
        "            for i, token in enumerate(tokens):\n",
        "                if token.lower() == term_tokens[0].lower():\n",
        "                    if len(term_tokens) == 1 or all(i+j < len(tokens) and tokens[i+j].lower() == term_tokens[j].lower() for j in range(1, len(term_tokens))):\n",
        "                        index = i\n",
        "                        break\n",
        "\n",
        "            # final entry of pre-processed dataset\n",
        "            processed_entry = {\n",
        "                'tokens': tokens,\n",
        "                'polarity': polarity,\n",
        "                'aspect_term': term_tokens,\n",
        "                'index': index\n",
        "            }\n",
        "\n",
        "            # adding it to the list\n",
        "            processed_data.append(processed_entry)\n",
        "\n",
        "    return processed_data\n"
      ]
    },
    {
      "cell_type": "markdown",
      "metadata": {
        "id": "KnnfFO0j7UtF"
      },
      "source": [
        "Preprocessing training dataset"
      ]
    },
    {
      "cell_type": "code",
      "execution_count": 6,
      "metadata": {
        "colab": {
          "base_uri": "https://localhost:8080/"
        },
        "id": "AFIu8_yR74F1",
        "outputId": "90e7a917-f846-42e5-c7c5-dc08eb71e5b0"
      },
      "outputs": [
        {
          "name": "stdout",
          "output_type": "stream",
          "text": [
            "Processed 2961 aspect terms from 2435 sentences.\n",
            "Data saved to train_task2.json\n"
          ]
        }
      ],
      "source": [
        "train_final = preprocess_data(train_data)\n",
        "\n",
        "with open('train_task2.json', 'w') as file:\n",
        "    json.dump(train_final, file, indent=2)\n",
        "\n",
        "print(f\"Processed {len(train_final)} aspect terms from {len(train_data)} sentences.\")\n",
        "print(\"Data saved to train_task2.json\")"
      ]
    },
    {
      "cell_type": "markdown",
      "metadata": {
        "id": "_xwztxYm7X0k"
      },
      "source": [
        "Preprocessing Validation dataset"
      ]
    },
    {
      "cell_type": "code",
      "execution_count": 7,
      "metadata": {
        "colab": {
          "base_uri": "https://localhost:8080/"
        },
        "id": "7T2Hrih974F1",
        "outputId": "8ab7e1d5-6248-4f97-964f-1dbd310b4e5c"
      },
      "outputs": [
        {
          "name": "stdout",
          "output_type": "stream",
          "text": [
            "Processed 371 aspect terms from 304 sentences.\n",
            "Data saved to val_task2.json\n"
          ]
        }
      ],
      "source": [
        "val_final = preprocess_data(val_data)\n",
        "\n",
        "with open('val_task2.json', 'w') as file:\n",
        "    json.dump(val_final, file, indent=2)\n",
        "\n",
        "print(f\"Processed {len(val_final)} aspect terms from {len(val_data)} sentences.\")\n",
        "print(\"Data saved to val_task2.json\")"
      ]
    },
    {
      "cell_type": "markdown",
      "metadata": {
        "id": "q_zWN9637f7n"
      },
      "source": [
        "### Creating Tokenized Dataset\n",
        "Creating tokenized dataset for using for the architectures."
      ]
    },
    {
      "cell_type": "code",
      "execution_count": 8,
      "metadata": {
        "id": "5wRjaKCw74F1"
      },
      "outputs": [],
      "source": [
        "class ABSADataset(Dataset):\n",
        "\n",
        "    # initializes dataset\n",
        "    def __init__(self, data, tokenizer, max_len=128):\n",
        "\n",
        "        # stores tokenizer\n",
        "        self.tokenizer = tokenizer\n",
        "        # stores maximum sequence length\n",
        "        self.max_len = max_len\n",
        "        # stores the dataset\n",
        "        self.data = data\n",
        "\n",
        "\n",
        "    def __len__(self):\n",
        "        return len(self.data)\n",
        "\n",
        "    # returns a sample from the dataset at the given index\n",
        "    def __getitem__(self, idx):\n",
        "\n",
        "\n",
        "        sample = self.data[idx]\n",
        "\n",
        "        tokens = sample['tokens']\n",
        "        aspect_terms = sample['aspect_term']\n",
        "        aspect_indices = sample['index']\n",
        "\n",
        "        # ensuring that aspect terms is in the 'aspect_terms' list\n",
        "        if not isinstance(aspect_terms, list):\n",
        "            aspect_terms = [aspect_terms]\n",
        "        # ensuring that aspect index is in the 'aspect_indices' list\n",
        "        if not isinstance(aspect_indices, list):\n",
        "            aspect_indices = [aspect_indices]\n",
        "\n",
        "        polarity_mapping = {'negative': 0, 'neutral': 1, 'positive': 2, 'conflict': 3}\n",
        "\n",
        "        # converting polarity mapping from string to numerical format\n",
        "        if isinstance(sample['polarity'], list):\n",
        "            polarity = polarity_mapping[sample['polarity'][0]]\n",
        "        else:\n",
        "            polarity = polarity_mapping[sample['polarity']]\n",
        "\n",
        "\n",
        "        # tokenizing the sentence\n",
        "        sentence = ' '.join(tokens)\n",
        "\n",
        "        encoding = self.tokenizer.encode_plus(\n",
        "            sentence,\n",
        "            add_special_tokens=True,\n",
        "            max_length=self.max_len,\n",
        "            padding='max_length',\n",
        "            truncation=True,\n",
        "            return_token_type_ids=True,\n",
        "            return_attention_mask=True,\n",
        "            return_tensors='pt'\n",
        "        )\n",
        "\n",
        "\n",
        "        aspect_mask = torch.zeros(self.max_len)\n",
        "\n",
        "        # adjusting index for special token - CLS (at the start of sentence) and SEP (at the end of a sentence to separate two sentences or sentence and padding)\n",
        "        start_idx = aspect_indices[0] + 1\n",
        "\n",
        "        for i in range(len(aspect_terms)):\n",
        "            pos = start_idx + i\n",
        "            if pos < self.max_len:\n",
        "                aspect_mask[pos] = 1.0\n",
        "\n",
        "        # returning the dataset\n",
        "        return {\n",
        "            'input_ids': encoding['input_ids'].flatten(),\n",
        "            'attention_mask': encoding['attention_mask'].flatten(),\n",
        "            'token_type_ids': encoding['token_type_ids'].flatten(),\n",
        "            'aspect_mask': aspect_mask,\n",
        "            'polarity': torch.tensor(polarity, dtype=torch.long)\n",
        "        }"
      ]
    },
    {
      "cell_type": "markdown",
      "metadata": {
        "id": "Lt8yzie-8T-A"
      },
      "source": [
        "## 2.3 Model Training\n",
        "Final Model"
      ]
    },
    {
      "cell_type": "code",
      "execution_count": 11,
      "metadata": {
        "id": "GWN86kQlEdYH"
      },
      "outputs": [],
      "source": [
        "class TD_LSTM_GCN(nn.Module):\n",
        "\n",
        "    def __init__(self, pretrained_bert=\"bert-base-uncased\", hidden_dim=256, output_dim=4, num_gcn_layers=2):\n",
        "        super(TD_LSTM_GCN, self).__init__()\n",
        "\n",
        "        # BERT encoder\n",
        "        self.bert = BertModel.from_pretrained(pretrained_bert)\n",
        "        bert_output_dim = self.bert.config.hidden_size\n",
        "\n",
        "        # TD-LSTM components\n",
        "        self.lstm_left = nn.LSTM(bert_output_dim, hidden_dim // 2, batch_first=True, bidirectional=False)\n",
        "        self.lstm_right = nn.LSTM(bert_output_dim, hidden_dim // 2, batch_first=True, bidirectional=False)\n",
        "        self.lstm_target = nn.LSTM(bert_output_dim, hidden_dim, batch_first=True, bidirectional=True)\n",
        "\n",
        "        # GCN components\n",
        "        self.gcn_layers = nn.ModuleList([\n",
        "            GraphConvolution(bert_output_dim if i == 0 else hidden_dim, hidden_dim)\n",
        "            for i in range(num_gcn_layers)\n",
        "        ])\n",
        "\n",
        "        # Attention mechanism for combining LSTM and GCN outputs\n",
        "        self.attention_lstm = nn.Linear(hidden_dim * 2, 1)\n",
        "        self.attention_gcn = nn.Linear(hidden_dim, 1)\n",
        "\n",
        "        # Output layer\n",
        "        self.fc = nn.Linear(hidden_dim * 3, output_dim)\n",
        "\n",
        "    def forward(self, input_ids, attention_mask, token_type_ids, aspect_mask, dependency_matrix=None):\n",
        "\n",
        "        batch_size, seq_len = input_ids.size()\n",
        "\n",
        "        # getting BERT embeddings\n",
        "        bert_outputs = self.bert(\n",
        "            input_ids=input_ids,\n",
        "            attention_mask=attention_mask,\n",
        "            token_type_ids=token_type_ids\n",
        "        )\n",
        "        embedded = bert_outputs.last_hidden_state\n",
        "\n",
        "        # approximation of dependency matrix\n",
        "        if dependency_matrix is None:\n",
        "            # Create a simple approximation - nearby words are connected\n",
        "            dependency_matrix = torch.zeros(batch_size, seq_len, seq_len, device=input_ids.device)\n",
        "\n",
        "            for i in range(seq_len):\n",
        "                # Connect word to itself and adjacent words\n",
        "                for j in range(max(0, i-1), min(seq_len, i+2)):\n",
        "                    dependency_matrix[:, i, j] = 1.0\n",
        "\n",
        "            # Mask out padding tokens\n",
        "            dependency_matrix = dependency_matrix * attention_mask.unsqueeze(1) * attention_mask.unsqueeze(2)\n",
        "\n",
        "        # Find aspect term positions\n",
        "        aspect_start_indices = []\n",
        "        aspect_end_indices = []\n",
        "        aspect_lengths = []\n",
        "\n",
        "        for i in range(batch_size):\n",
        "            # Find the indices where aspect_mask is 1\n",
        "            aspect_indices = torch.nonzero(aspect_mask[i], as_tuple=True)[0]\n",
        "            if len(aspect_indices) > 0:\n",
        "                aspect_start_indices.append(aspect_indices[0].item())\n",
        "                aspect_end_indices.append(aspect_indices[-1].item())\n",
        "                aspect_lengths.append(len(aspect_indices))\n",
        "            else:\n",
        "                # if no aspect is found pointing to the first non-padding token (using [CLS] token position)\n",
        "                aspect_start_indices.append(0)\n",
        "                aspect_end_indices.append(0)\n",
        "                aspect_lengths.append(1)\n",
        "\n",
        "        # Process with TD-LSTM\n",
        "        left_outputs = []\n",
        "        right_outputs = []\n",
        "        target_outputs = []\n",
        "\n",
        "        for i in range(batch_size):\n",
        "            # Create attention masks for valid tokens\n",
        "            valid_mask = attention_mask[i].bool()\n",
        "            valid_token_count = valid_mask.sum().item()\n",
        "\n",
        "            # Left context\n",
        "            left_idx = aspect_start_indices[i]\n",
        "            # Ensure there's atleast 1 token in the left context\n",
        "            if left_idx > 1 and (left_idx - 1) > 0:\n",
        "\n",
        "                left_input = embedded[i, 1:left_idx].unsqueeze(0)\n",
        "\n",
        "                if left_input.size(1) > 0:\n",
        "                    _, (h_left, _) = self.lstm_left(left_input)\n",
        "                    left_outputs.append(h_left.squeeze(0))\n",
        "                else:\n",
        "                    # Empty left context, use zero vector\n",
        "                    left_outputs.append(torch.zeros(1, self.lstm_left.hidden_size, device=embedded.device))\n",
        "            else:\n",
        "                # No left context, use zero vector\n",
        "                left_outputs.append(torch.zeros(1, self.lstm_left.hidden_size, device=embedded.device))\n",
        "\n",
        "            # Right context\n",
        "            right_idx = aspect_end_indices[i]\n",
        "            right_limit = valid_token_count - 1\n",
        "\n",
        "            # Ensure there's atleast 1 token in the right context\n",
        "            if right_idx < right_limit and (right_limit - right_idx - 1) > 0:\n",
        "\n",
        "                right_input = embedded[i, right_idx+1:right_limit].flip(dims=[0]).unsqueeze(0)\n",
        "\n",
        "                if right_input.size(1) > 0:\n",
        "                    _, (h_right, _) = self.lstm_right(right_input)\n",
        "                    right_outputs.append(h_right.squeeze(0))\n",
        "                else:\n",
        "                    # Empty right context, use zero vector\n",
        "                    right_outputs.append(torch.zeros(1, self.lstm_right.hidden_size, device=embedded.device))\n",
        "            else:\n",
        "                # No right context, use zero vector\n",
        "                right_outputs.append(torch.zeros(1, self.lstm_right.hidden_size, device=embedded.device))\n",
        "\n",
        "            # extracting target aspect represemtation\n",
        "            if aspect_lengths[i] > 0 and aspect_start_indices[i] < aspect_end_indices[i] + 1:\n",
        "\n",
        "                target_input = embedded[i, aspect_start_indices[i]:aspect_end_indices[i]+1].unsqueeze(0)\n",
        "\n",
        "                if target_input.size(1) > 0:\n",
        "                    target_output, _ = self.lstm_target(target_input)\n",
        "\n",
        "                    target_pooled = F.max_pool1d(target_output.transpose(1, 2), target_input.size(1)).squeeze(2)\n",
        "                    target_outputs.append(target_pooled)\n",
        "                else:\n",
        "\n",
        "                    target_outputs.append(torch.zeros(1, self.lstm_target.hidden_size * 2, device=embedded.device))\n",
        "            else:\n",
        "\n",
        "                # Use [CLS] token if empty aspects\n",
        "                cls_token = embedded[i, 0].unsqueeze(0).unsqueeze(0)\n",
        "                target_output, _ = self.lstm_target(cls_token)\n",
        "                target_pooled = target_output.squeeze(1)\n",
        "                target_outputs.append(target_pooled)\n",
        "\n",
        "        # Stack the outputs\n",
        "        left_hidden = torch.cat(left_outputs, dim=0)  # [batch_size, hidden_dim//2]\n",
        "        right_hidden = torch.cat(right_outputs, dim=0)  # [batch_size, hidden_dim//2]\n",
        "        target_hidden = torch.cat(target_outputs, dim=0)  # [batch_size, hidden_dim*2]\n",
        "\n",
        "        # GCN Layers for dependency based feature extraction\n",
        "        gcn_output = embedded\n",
        "        for gcn_layer in self.gcn_layers:\n",
        "            gcn_output = gcn_layer(gcn_output, dependency_matrix)\n",
        "            gcn_output = F.relu(gcn_output)\n",
        "\n",
        "        # Extract aspect-specific GCN representations\n",
        "        aspect_gcn_outputs = []\n",
        "\n",
        "        for i in range(batch_size):\n",
        "\n",
        "            aspect_indices = torch.nonzero(aspect_mask[i], as_tuple=True)[0]\n",
        "\n",
        "            if len(aspect_indices) > 0:\n",
        "\n",
        "                aspect_gcn = gcn_output[i, aspect_indices]  # [aspect_len, hidden_dim]\n",
        "                aspect_gcn_pooled = torch.mean(aspect_gcn, dim=0)  # [hidden_dim]\n",
        "                aspect_gcn_outputs.append(aspect_gcn_pooled.unsqueeze(0))\n",
        "\n",
        "            else:\n",
        "                # using [CLS] token representation when no aspect is found\n",
        "                aspect_gcn_outputs.append(gcn_output[i, 0].unsqueeze(0))\n",
        "\n",
        "        aspect_gcn_hidden = torch.cat(aspect_gcn_outputs, dim=0)  # [batch_size, hidden_dim]\n",
        "\n",
        "        # Combine TD-LSTM hidden states\n",
        "        td_lstm_hidden = torch.cat([left_hidden, right_hidden], dim=1)  # [batch_size, hidden_dim]\n",
        "\n",
        "        # Attention-based fusion of representations\n",
        "        lstm_score = torch.sigmoid(self.attention_lstm(target_hidden))  # [batch_size, 1]\n",
        "        gcn_score = torch.sigmoid(self.attention_gcn(aspect_gcn_hidden))  # [batch_size, 1]\n",
        "\n",
        "        alpha = lstm_score / (lstm_score + gcn_score + 1e-10)  # [batch_size, 1]\n",
        "        combined_hidden = alpha * td_lstm_hidden + (1 - alpha) * aspect_gcn_hidden\n",
        "\n",
        "        # Final representation\n",
        "        final_hidden = torch.cat([combined_hidden, target_hidden], dim=1)  # [batch_size, hidden_dim*3]\n",
        "\n",
        "        # Classification\n",
        "        output = self.fc(final_hidden)\n",
        "        return output\n",
        "\n",
        "\n",
        "class GraphConvolution(nn.Module):\n",
        "\n",
        "    def __init__(self, input_dim, output_dim):\n",
        "        super(GraphConvolution, self).__init__()\n",
        "        self.weight = nn.Parameter(torch.FloatTensor(input_dim, output_dim))\n",
        "        self.bias = nn.Parameter(torch.FloatTensor(output_dim))\n",
        "        self.reset_parameters()\n",
        "\n",
        "    def reset_parameters(self):\n",
        "        nn.init.kaiming_uniform_(self.weight)\n",
        "        nn.init.zeros_(self.bias)\n",
        "\n",
        "    def forward(self, x, adj):\n",
        "\n",
        "        batch_size, seq_len, _ = x.size()\n",
        "\n",
        "        # Add self-loops to the adjacency matrix\n",
        "        adj = adj + torch.eye(seq_len).unsqueeze(0).expand(batch_size, -1, -1).to(x.device)\n",
        "\n",
        "        # Normalize adjacency matrix (D^-1/2 A D^-1/2)\n",
        "        deg = torch.sum(adj, dim=2, keepdim=True)\n",
        "        norm_adj = adj / torch.sqrt(deg + 1e-10) / torch.sqrt(deg.transpose(1, -1) + 1e-10)\n",
        "\n",
        "        # Apply graph convolution\n",
        "        support = torch.matmul(x, self.weight)  # [batch_size, seq_len, output_dim]\n",
        "        output = torch.matmul(norm_adj, support) + self.bias\n",
        "\n",
        "        return output\n",
        "\n"
      ]
    },
    {
      "cell_type": "markdown",
      "metadata": {
        "id": "fb8aztRn8YmA"
      },
      "source": [
        "### Function to train the model batch wise"
      ]
    },
    {
      "cell_type": "code",
      "execution_count": 12,
      "metadata": {
        "id": "pA4Wl11y74F2"
      },
      "outputs": [],
      "source": [
        "def train_model_batch(model, data_loader, optimizer, criterion, device):\n",
        "    model.train()\n",
        "    epoch_loss = 0\n",
        "    epoch_acc = 0\n",
        "\n",
        "    for batch in tqdm(data_loader):\n",
        "        # Get data\n",
        "        input_ids = batch['input_ids'].to(device)\n",
        "        attention_mask = batch['attention_mask'].to(device)\n",
        "        token_type_ids = batch['token_type_ids'].to(device)\n",
        "        aspect_mask = batch['aspect_mask'].to(device)\n",
        "        polarity = batch['polarity'].to(device)\n",
        "\n",
        "        # Forward pass\n",
        "        optimizer.zero_grad()\n",
        "        predictions = model(input_ids, attention_mask, token_type_ids, aspect_mask)\n",
        "\n",
        "        # Calculate loss and backpropagate\n",
        "        loss = criterion(predictions, polarity)\n",
        "        loss.backward()\n",
        "        optimizer.step()\n",
        "\n",
        "        # Calculate accuracy\n",
        "        preds = predictions.argmax(dim=1)\n",
        "        acc = (preds == polarity).float().mean()\n",
        "\n",
        "        epoch_loss += loss.item()\n",
        "        epoch_acc += acc.item()\n",
        "\n",
        "    return epoch_loss / len(data_loader), epoch_acc / len(data_loader)"
      ]
    },
    {
      "cell_type": "markdown",
      "metadata": {
        "id": "6CPwZXN18dTB"
      },
      "source": [
        "### Function for evaluating the model"
      ]
    },
    {
      "cell_type": "code",
      "execution_count": 13,
      "metadata": {
        "id": "DF3HGIsf74F2"
      },
      "outputs": [],
      "source": [
        "# Function to evaluate the model\n",
        "def evaluate_model(model, data_loader, criterion, device):\n",
        "    model.eval()\n",
        "    epoch_loss = 0\n",
        "    epoch_acc = 0\n",
        "\n",
        "    with torch.no_grad():\n",
        "        for batch in data_loader:\n",
        "            # Get data\n",
        "            input_ids = batch['input_ids'].to(device)\n",
        "            attention_mask = batch['attention_mask'].to(device)\n",
        "            token_type_ids = batch['token_type_ids'].to(device)\n",
        "            aspect_mask = batch['aspect_mask'].to(device)\n",
        "            polarity = batch['polarity'].to(device)\n",
        "\n",
        "            # Forward pass\n",
        "            predictions = model(input_ids, attention_mask, token_type_ids, aspect_mask)\n",
        "\n",
        "            # Calculate loss and accuracy\n",
        "            loss = criterion(predictions, polarity)\n",
        "            preds = predictions.argmax(dim=1)\n",
        "            acc = (preds == polarity).float().mean()\n",
        "\n",
        "            epoch_loss += loss.item()\n",
        "            epoch_acc += acc.item()\n",
        "\n",
        "    return epoch_loss / len(data_loader), epoch_acc / len(data_loader)\n",
        "\n"
      ]
    },
    {
      "cell_type": "markdown",
      "metadata": {
        "id": "xGBQL8o78iag"
      },
      "source": [
        "### Final Function for Training the Model"
      ]
    },
    {
      "cell_type": "code",
      "execution_count": 14,
      "metadata": {
        "id": "_xzsx5ngINpU"
      },
      "outputs": [],
      "source": [
        "def train_model(model, train_dataloader, val_dataloader, device, lr_given, n_epochs):\n",
        "    # Initialize optimizer and loss function\n",
        "    optimizer = optim.Adam(model.parameters(), lr=lr_given)\n",
        "    criterion = nn.CrossEntropyLoss()\n",
        "\n",
        "    # Training loop\n",
        "    # n_epochs = 21\n",
        "    best_val_loss = float('inf')\n",
        "\n",
        "    train_losses = []\n",
        "    train_accs = []\n",
        "    val_losses = []\n",
        "    val_accs = []\n",
        "\n",
        "    for epoch in range(n_epochs):\n",
        "        print(f'Epoch {epoch+1}/{n_epochs}')\n",
        "\n",
        "        # Train and evaluate\n",
        "        train_loss, train_acc = train_model_batch(model, train_dataloader, optimizer, criterion, device)\n",
        "        val_loss, val_acc = evaluate_model(model, val_dataloader, criterion, device)\n",
        "\n",
        "        # Save metrics\n",
        "        train_losses.append(train_loss)\n",
        "        train_accs.append(train_acc)\n",
        "        val_losses.append(val_loss)\n",
        "        val_accs.append(val_acc)\n",
        "\n",
        "        print(f'Train Loss: {train_loss:.3f} | Train Acc: {train_acc*100:.5f}%')\n",
        "        print(f'Val Loss: {val_loss:.3f} | Val Acc: {val_acc*100:.5f}%')\n",
        "\n",
        "        # Save best model\n",
        "        if val_loss < best_val_loss:\n",
        "            best_val_loss = val_loss\n",
        "            torch.save(model.state_dict(), 'best-absa-model.pt')\n",
        "            print('Best model saved!')\n",
        "\n",
        "        print()\n",
        "    return train_losses, train_accs, val_losses, val_accs\n",
        "\n",
        "\n"
      ]
    },
    {
      "cell_type": "markdown",
      "metadata": {
        "id": "pDKLSFgU8nJr"
      },
      "source": [
        "### Plotting\n",
        "1. Training Loss Vs Validation Loss\n",
        "2. Training Accuracy Vs Validation Accuracy"
      ]
    },
    {
      "cell_type": "code",
      "execution_count": 15,
      "metadata": {
        "id": "xDQjvuHfGiiK"
      },
      "outputs": [],
      "source": [
        "def plot(train_losses, train_accs, val_losses, val_accs):\n",
        "  # Plot training curves\n",
        "  plt.figure(figsize=(12, 5))\n",
        "\n",
        "  plt.subplot(1, 2, 1)\n",
        "  plt.plot(train_losses, label='Train Loss')\n",
        "  plt.plot(val_losses, label='Val Loss')\n",
        "  plt.ylim(0, 2)\n",
        "  plt.xlabel('Epoch')\n",
        "  plt.ylabel('Loss')\n",
        "  plt.legend()\n",
        "\n",
        "  plt.subplot(1, 2, 2)\n",
        "  plt.plot(train_accs, label='Train Acc')\n",
        "  plt.plot(val_accs, label='Val Acc')\n",
        "  plt.ylim(0, 1)\n",
        "  plt.xlabel('Epoch')\n",
        "  plt.ylabel('Accuracy')\n",
        "  plt.legend()\n",
        "\n",
        "  plt.tight_layout()\n",
        "  plt.savefig('training_curves.png')\n",
        "  plt.show()"
      ]
    },
    {
      "cell_type": "markdown",
      "metadata": {
        "id": "wwBICA0Y8zrE"
      },
      "source": [
        "## Loading the Preprocessed Training Dataset"
      ]
    },
    {
      "cell_type": "code",
      "execution_count": 16,
      "metadata": {
        "id": "YZpTV9MyPE_M"
      },
      "outputs": [],
      "source": [
        "with open(\"train_task2.json\", \"r\", encoding=\"utf-8\") as file:\n",
        "    data = json.load(file)\n",
        "\n",
        "train_final_data = data"
      ]
    },
    {
      "cell_type": "markdown",
      "metadata": {
        "id": "aPlkMEp_85kD"
      },
      "source": [
        "## Loading the Preprocesses Validation Dataset"
      ]
    },
    {
      "cell_type": "code",
      "execution_count": 17,
      "metadata": {
        "id": "GE8kAGdzPGEz"
      },
      "outputs": [],
      "source": [
        "with open(\"val_task2.json\", \"r\", encoding=\"utf-8\") as file:\n",
        "    data = json.load(file)\n",
        "\n",
        "val_final_data = data"
      ]
    },
    {
      "cell_type": "markdown",
      "metadata": {
        "id": "OohX0DWT8_Wp"
      },
      "source": [
        "### Tokenizing the Dataset for Using in Models"
      ]
    },
    {
      "cell_type": "code",
      "execution_count": 18,
      "metadata": {
        "colab": {
          "base_uri": "https://localhost:8080/"
        },
        "id": "FUnFHxkW74F2",
        "outputId": "f7ae9c61-e573-41b5-9b0c-b21bd2f32980"
      },
      "outputs": [
        {
          "name": "stderr",
          "output_type": "stream",
          "text": [
            "/usr/local/lib/python3.11/dist-packages/huggingface_hub/utils/_auth.py:94: UserWarning: \n",
            "The secret `HF_TOKEN` does not exist in your Colab secrets.\n",
            "To authenticate with the Hugging Face Hub, create a token in your settings tab (https://huggingface.co/settings/tokens), set it as secret in your Google Colab and restart your session.\n",
            "You will be able to reuse this secret in all of your notebooks.\n",
            "Please note that authentication is recommended but still optional to access public models or datasets.\n",
            "  warnings.warn(\n"
          ]
        },
        {
          "name": "stdout",
          "output_type": "stream",
          "text": [
            "Sample 0: {'input_ids': tensor([ 101, 2021, 1996, 3095, 2001, 2061, 9202, 2000, 2149,  102,    0,    0,\n",
            "           0,    0,    0,    0,    0,    0,    0,    0,    0,    0,    0,    0,\n",
            "           0,    0,    0,    0,    0,    0,    0,    0,    0,    0,    0,    0,\n",
            "           0,    0,    0,    0,    0,    0,    0,    0,    0,    0,    0,    0,\n",
            "           0,    0,    0,    0,    0,    0,    0,    0,    0,    0,    0,    0,\n",
            "           0,    0,    0,    0,    0,    0,    0,    0,    0,    0,    0,    0,\n",
            "           0,    0,    0,    0,    0,    0,    0,    0,    0,    0,    0,    0,\n",
            "           0,    0,    0,    0,    0,    0,    0,    0,    0,    0,    0,    0,\n",
            "           0,    0,    0,    0,    0,    0,    0,    0,    0,    0,    0,    0,\n",
            "           0,    0,    0,    0,    0,    0,    0,    0,    0,    0,    0,    0,\n",
            "           0,    0,    0,    0,    0,    0,    0,    0]), 'attention_mask': tensor([1, 1, 1, 1, 1, 1, 1, 1, 1, 1, 0, 0, 0, 0, 0, 0, 0, 0, 0, 0, 0, 0, 0, 0,\n",
            "        0, 0, 0, 0, 0, 0, 0, 0, 0, 0, 0, 0, 0, 0, 0, 0, 0, 0, 0, 0, 0, 0, 0, 0,\n",
            "        0, 0, 0, 0, 0, 0, 0, 0, 0, 0, 0, 0, 0, 0, 0, 0, 0, 0, 0, 0, 0, 0, 0, 0,\n",
            "        0, 0, 0, 0, 0, 0, 0, 0, 0, 0, 0, 0, 0, 0, 0, 0, 0, 0, 0, 0, 0, 0, 0, 0,\n",
            "        0, 0, 0, 0, 0, 0, 0, 0, 0, 0, 0, 0, 0, 0, 0, 0, 0, 0, 0, 0, 0, 0, 0, 0,\n",
            "        0, 0, 0, 0, 0, 0, 0, 0]), 'token_type_ids': tensor([0, 0, 0, 0, 0, 0, 0, 0, 0, 0, 0, 0, 0, 0, 0, 0, 0, 0, 0, 0, 0, 0, 0, 0,\n",
            "        0, 0, 0, 0, 0, 0, 0, 0, 0, 0, 0, 0, 0, 0, 0, 0, 0, 0, 0, 0, 0, 0, 0, 0,\n",
            "        0, 0, 0, 0, 0, 0, 0, 0, 0, 0, 0, 0, 0, 0, 0, 0, 0, 0, 0, 0, 0, 0, 0, 0,\n",
            "        0, 0, 0, 0, 0, 0, 0, 0, 0, 0, 0, 0, 0, 0, 0, 0, 0, 0, 0, 0, 0, 0, 0, 0,\n",
            "        0, 0, 0, 0, 0, 0, 0, 0, 0, 0, 0, 0, 0, 0, 0, 0, 0, 0, 0, 0, 0, 0, 0, 0,\n",
            "        0, 0, 0, 0, 0, 0, 0, 0]), 'aspect_mask': tensor([0., 0., 0., 1., 0., 0., 0., 0., 0., 0., 0., 0., 0., 0., 0., 0., 0., 0.,\n",
            "        0., 0., 0., 0., 0., 0., 0., 0., 0., 0., 0., 0., 0., 0., 0., 0., 0., 0.,\n",
            "        0., 0., 0., 0., 0., 0., 0., 0., 0., 0., 0., 0., 0., 0., 0., 0., 0., 0.,\n",
            "        0., 0., 0., 0., 0., 0., 0., 0., 0., 0., 0., 0., 0., 0., 0., 0., 0., 0.,\n",
            "        0., 0., 0., 0., 0., 0., 0., 0., 0., 0., 0., 0., 0., 0., 0., 0., 0., 0.,\n",
            "        0., 0., 0., 0., 0., 0., 0., 0., 0., 0., 0., 0., 0., 0., 0., 0., 0., 0.,\n",
            "        0., 0., 0., 0., 0., 0., 0., 0., 0., 0., 0., 0., 0., 0., 0., 0., 0., 0.,\n",
            "        0., 0.]), 'polarity': tensor(0)}\n",
            "\n"
          ]
        }
      ],
      "source": [
        "# BERT tokenizer and model\n",
        "tokenizer = BertTokenizer.from_pretrained('bert-base-uncased')\n",
        "bert_model = BertModel.from_pretrained('bert-base-uncased')\n",
        "\n",
        "# Creating datasets\n",
        "train_dataset = ABSADataset(train_final_data, tokenizer)\n",
        "val_dataset = ABSADataset(val_final_data, tokenizer)\n",
        "\n",
        "for i in range(1):\n",
        "    print(f\"Sample {i}: {train_dataset[i]}\\n\")\n"
      ]
    },
    {
      "cell_type": "code",
      "execution_count": 19,
      "metadata": {
        "id": "HRKlYHy3a6yM"
      },
      "outputs": [],
      "source": [
        "batch_size = 32\n",
        "output_dim = 4\n",
        "\n",
        "device = torch.device('cuda' if torch.cuda.is_available() else 'cpu')\n",
        "\n",
        "train_dataloader = DataLoader(train_dataset, batch_size=batch_size, shuffle=True)\n",
        "val_dataloader = DataLoader(val_dataset, batch_size=batch_size)\n",
        "\n"
      ]
    },
    {
      "cell_type": "markdown",
      "metadata": {
        "id": "Td6FnADL9ODj"
      },
      "source": [
        "### Final Model"
      ]
    },
    {
      "cell_type": "code",
      "execution_count": 22,
      "metadata": {
        "colab": {
          "base_uri": "https://localhost:8080/",
          "height": 1000
        },
        "id": "NA0NUzXHEhV_",
        "outputId": "0fa63eee-e579-404a-aa0c-4a933782160e"
      },
      "outputs": [
        {
          "name": "stdout",
          "output_type": "stream",
          "text": [
            "Initializing model...\n",
            "Starting training...\n",
            "Epoch 1/10\n"
          ]
        },
        {
          "name": "stderr",
          "output_type": "stream",
          "text": [
            "100%|██████████| 93/93 [01:09<00:00,  1.33it/s]\n"
          ]
        },
        {
          "name": "stdout",
          "output_type": "stream",
          "text": [
            "Train Loss: 1.085 | Train Acc: 57.25213%\n",
            "Val Loss: 1.000 | Val Acc: 56.82566%\n",
            "Best model saved!\n",
            "\n",
            "Epoch 2/10\n"
          ]
        },
        {
          "name": "stderr",
          "output_type": "stream",
          "text": [
            "100%|██████████| 93/93 [01:09<00:00,  1.34it/s]\n"
          ]
        },
        {
          "name": "stdout",
          "output_type": "stream",
          "text": [
            "Train Loss: 0.784 | Train Acc: 69.33705%\n",
            "Val Loss: 0.809 | Val Acc: 69.07895%\n",
            "Best model saved!\n",
            "\n",
            "Epoch 3/10\n"
          ]
        },
        {
          "name": "stderr",
          "output_type": "stream",
          "text": [
            "100%|██████████| 93/93 [01:09<00:00,  1.34it/s]\n"
          ]
        },
        {
          "name": "stdout",
          "output_type": "stream",
          "text": [
            "Train Loss: 0.633 | Train Acc: 76.21758%\n",
            "Val Loss: 0.756 | Val Acc: 71.08004%\n",
            "Best model saved!\n",
            "\n",
            "Epoch 4/10\n"
          ]
        },
        {
          "name": "stderr",
          "output_type": "stream",
          "text": [
            "100%|██████████| 93/93 [01:09<00:00,  1.35it/s]\n"
          ]
        },
        {
          "name": "stdout",
          "output_type": "stream",
          "text": [
            "Train Loss: 0.546 | Train Acc: 79.27933%\n",
            "Val Loss: 0.754 | Val Acc: 70.03838%\n",
            "Best model saved!\n",
            "\n",
            "Epoch 5/10\n"
          ]
        },
        {
          "name": "stderr",
          "output_type": "stream",
          "text": [
            "100%|██████████| 93/93 [01:09<00:00,  1.34it/s]\n"
          ]
        },
        {
          "name": "stdout",
          "output_type": "stream",
          "text": [
            "Train Loss: 0.476 | Train Acc: 82.50909%\n",
            "Val Loss: 0.758 | Val Acc: 70.12061%\n",
            "\n",
            "Epoch 6/10\n"
          ]
        },
        {
          "name": "stderr",
          "output_type": "stream",
          "text": [
            "100%|██████████| 93/93 [01:08<00:00,  1.35it/s]\n"
          ]
        },
        {
          "name": "stdout",
          "output_type": "stream",
          "text": [
            "Train Loss: 0.420 | Train Acc: 84.29791%\n",
            "Val Loss: 0.717 | Val Acc: 72.98520%\n",
            "Best model saved!\n",
            "\n",
            "Epoch 7/10\n"
          ]
        },
        {
          "name": "stderr",
          "output_type": "stream",
          "text": [
            "100%|██████████| 93/93 [01:08<00:00,  1.35it/s]\n"
          ]
        },
        {
          "name": "stdout",
          "output_type": "stream",
          "text": [
            "Train Loss: 0.365 | Train Acc: 87.04538%\n",
            "Val Loss: 0.749 | Val Acc: 72.80702%\n",
            "\n",
            "Epoch 8/10\n"
          ]
        },
        {
          "name": "stderr",
          "output_type": "stream",
          "text": [
            "100%|██████████| 93/93 [01:08<00:00,  1.35it/s]\n"
          ]
        },
        {
          "name": "stdout",
          "output_type": "stream",
          "text": [
            "Train Loss: 0.317 | Train Acc: 88.81839%\n",
            "Val Loss: 0.778 | Val Acc: 72.02577%\n",
            "\n",
            "Epoch 9/10\n"
          ]
        },
        {
          "name": "stderr",
          "output_type": "stream",
          "text": [
            "100%|██████████| 93/93 [01:08<00:00,  1.36it/s]\n"
          ]
        },
        {
          "name": "stdout",
          "output_type": "stream",
          "text": [
            "Train Loss: 0.277 | Train Acc: 90.26724%\n",
            "Val Loss: 0.747 | Val Acc: 74.12281%\n",
            "\n",
            "Epoch 10/10\n"
          ]
        },
        {
          "name": "stderr",
          "output_type": "stream",
          "text": [
            "100%|██████████| 93/93 [01:08<00:00,  1.35it/s]\n"
          ]
        },
        {
          "name": "stdout",
          "output_type": "stream",
          "text": [
            "Train Loss: 0.245 | Train Acc: 91.87619%\n",
            "Val Loss: 0.755 | Val Acc: 74.46546%\n",
            "\n"
          ]
        },
        {
          "data": {
            "image/png": "[encoded data removed]",
            "text/plain": [
              "<Figure size 1200x500 with 2 Axes>"
            ]
          },
          "metadata": {},
          "output_type": "display_data"
        },
        {
          "name": "stdout",
          "output_type": "stream",
          "text": [
            "Training complete!\n"
          ]
        }
      ],
      "source": [
        "# Model hyperparameters\n",
        "max_seq_length = 128\n",
        "hidden_dim = 256\n",
        "gcn_layers = 2\n",
        "\n",
        "# Initialize model\n",
        "print(\"Initializing model...\")\n",
        "model = TD_LSTM_GCN(\n",
        "    hidden_dim=hidden_dim,\n",
        "    num_gcn_layers=gcn_layers,\n",
        "    output_dim=output_dim)\n",
        "\n",
        "model = model.to(device)\n",
        "\n",
        "# Train the model\n",
        "print(\"Starting training...\")\n",
        "train_losses, train_accs, val_losses, val_accs = train_model(\n",
        "    model=model,\n",
        "    train_dataloader=train_dataloader,\n",
        "    val_dataloader=val_dataloader,\n",
        "    device=device, lr_given = 4e-6, n_epochs=10)\n",
        "\n",
        "\n",
        "# Plot training results\n",
        "plot(train_losses, train_accs, val_losses, val_accs)\n",
        "\n",
        "print(\"Training complete!\")\n"
      ]
    },
    {
      "cell_type": "markdown",
      "metadata": {
        "id": "xbGxIah6cv0c"
      },
      "source": [
        "## 2.6 Additional Task"
      ]
    },
    {
      "cell_type": "code",
      "execution_count": 23,
      "metadata": {
        "id": "TPwlL3ibczo6"
      },
      "outputs": [],
      "source": [
        "class BERTForABSA(nn.Module):\n",
        "    def __init__(self, pretrained_model=\"bert-base-uncased\", output_dim=4):\n",
        "        super(BERTForABSA, self).__init__()\n",
        "        self.bert = BertModel.from_pretrained(pretrained_model)\n",
        "        self.dropout = nn.Dropout(0.1)\n",
        "        # Double the hidden size as we'll be combining aspect and context representations\n",
        "        self.classifier = nn.Linear(self.bert.config.hidden_size * 2, output_dim)\n",
        "\n",
        "    def forward(self, input_ids, attention_mask, token_type_ids=None, aspect_mask=None):\n",
        "        outputs = self.bert(\n",
        "            input_ids=input_ids,\n",
        "            attention_mask=attention_mask,\n",
        "            token_type_ids=token_type_ids\n",
        "        )\n",
        "\n",
        "        sequence_output = outputs.last_hidden_state  # Shape: [batch_size, seq_len, hidden_size]\n",
        "\n",
        "        # Get weighted aspect representation using the aspect mask\n",
        "        aspect_mask = aspect_mask.unsqueeze(-1)  # [batch_size, seq_len, 1]\n",
        "        aspect_sum = torch.sum(sequence_output * aspect_mask, dim=1)  # [batch_size, hidden_size]\n",
        "        aspect_mask_sum = torch.sum(aspect_mask, dim=1) + 1e-10  # Add small epsilon to avoid division by zero\n",
        "        aspect_representation = aspect_sum / aspect_mask_sum  # [batch_size, hidden_size]\n",
        "\n",
        "        # Get sentence representation from [CLS] token\n",
        "        sentence_representation = sequence_output[:, 0, :]  # [batch_size, hidden_size]\n",
        "\n",
        "        # Concatenate aspect and sentence representations\n",
        "        combined_representation = torch.cat([sentence_representation, aspect_representation], dim=1)\n",
        "        combined_representation = self.dropout(combined_representation)\n",
        "\n",
        "        # Pass through classifier\n",
        "        logits = self.classifier(combined_representation)\n",
        "        return logits\n",
        "\n",
        "\n",
        "class BARTForABSA(nn.Module):\n",
        "    def __init__(self, pretrained_model=\"facebook/bart-base\", output_dim=4):\n",
        "        super(BARTForABSA, self).__init__()\n",
        "        self.bart = BartModel.from_pretrained(pretrained_model)\n",
        "        self.dropout = nn.Dropout(0.1)\n",
        "        # Double the hidden size as we'll be combining aspect and context representations\n",
        "        self.classifier = nn.Linear(self.bart.config.d_model * 2, output_dim)\n",
        "\n",
        "    def forward(self, input_ids, attention_mask, token_type_ids=None, aspect_mask=None):\n",
        "        # BART doesn't use token_type_ids, so we ignore it\n",
        "        outputs = self.bart(\n",
        "            input_ids=input_ids,\n",
        "            attention_mask=attention_mask\n",
        "        )\n",
        "\n",
        "        sequence_output = outputs.last_hidden_state  # Shape: [batch_size, seq_len, hidden_size]\n",
        "\n",
        "        # Get weighted aspect representation using the aspect mask\n",
        "        aspect_mask = aspect_mask.unsqueeze(-1)  # [batch_size, seq_len, 1]\n",
        "        aspect_sum = torch.sum(sequence_output * aspect_mask, dim=1)  # [batch_size, hidden_size]\n",
        "        aspect_mask_sum = torch.sum(aspect_mask, dim=1) + 1e-10  # Add small epsilon to avoid division by zero\n",
        "        aspect_representation = aspect_sum / aspect_mask_sum  # [batch_size, hidden_size]\n",
        "\n",
        "        # Get sentence representation from first token\n",
        "        sentence_representation = sequence_output[:, 0, :]  # [batch_size, hidden_size]\n",
        "\n",
        "        # Concatenate aspect and sentence representations\n",
        "        combined_representation = torch.cat([sentence_representation, aspect_representation], dim=1)\n",
        "        combined_representation = self.dropout(combined_representation)\n",
        "\n",
        "        # Pass through classifier\n",
        "        logits = self.classifier(combined_representation)\n",
        "        return logits\n",
        "\n",
        "\n",
        "class RoBERTaForABSA(nn.Module):\n",
        "    def __init__(self, pretrained_model=\"roberta-base\", output_dim=4):\n",
        "        super(RoBERTaForABSA, self).__init__()\n",
        "        self.roberta = RobertaModel.from_pretrained(pretrained_model)\n",
        "        self.dropout = nn.Dropout(0.1)\n",
        "\n",
        "        # Double the hidden size as we'll be combining aspect and context representations\n",
        "        self.classifier = nn.Linear(self.roberta.config.hidden_size * 2, output_dim)\n",
        "\n",
        "    def forward(self, input_ids, attention_mask, token_type_ids=None, aspect_mask=None):\n",
        "        # RoBERTa doesn't use token_type_ids, so we ignore it\n",
        "        outputs = self.roberta(\n",
        "            input_ids=input_ids,\n",
        "            attention_mask=attention_mask\n",
        "        )\n",
        "\n",
        "        sequence_output = outputs.last_hidden_state  # Shape: [batch_size, seq_len, hidden_size]\n",
        "\n",
        "        # Get weighted aspect representation using the aspect mask\n",
        "        aspect_mask = aspect_mask.unsqueeze(-1)  # [batch_size, seq_len, 1]\n",
        "        aspect_sum = torch.sum(sequence_output * aspect_mask, dim=1)  # [batch_size, hidden_size]\n",
        "        aspect_mask_sum = torch.sum(aspect_mask, dim=1) + 1e-10  # Add small epsilon to avoid division by zero\n",
        "        aspect_representation = aspect_sum / aspect_mask_sum  # [batch_size, hidden_size]\n",
        "\n",
        "        # Get sentence representation from first token\n",
        "        sentence_representation = sequence_output[:, 0, :]  # [batch_size, hidden_size]\n",
        "\n",
        "        # Concatenate aspect and sentence representations\n",
        "        combined_representation = torch.cat([sentence_representation, aspect_representation], dim=1)\n",
        "        combined_representation = self.dropout(combined_representation)\n",
        "\n",
        "        # Pass through classifier\n",
        "        logits = self.classifier(combined_representation)\n",
        "        return logits"
      ]
    },
    {
      "cell_type": "code",
      "execution_count": null,
      "metadata": {
        "colab": {
          "base_uri": "https://localhost:8080/",
          "height": 405,
          "referenced_widgets": [
            "610aca85526a4f8b97f316f5607cd1c6",
            "d7b046fe20774ecfa6b19a623c6bacfe",
            "7b3246ba4a7240e3be98dace2c2dc6e5",
            "8f69ff0a4ca44579a1fbb4a3480580f8",
            "0154e42dbdbe462487d4957ce797b3e5",
            "35ca3cd790f54264bd9da3e7305abe31",
            "6bcfb4967a284bffadf3c40ff7a92044",
            "c2421e1e1cd94ff598e3ab9b7d88aca5",
            "acabd3bfa81349418ac7849ce8630ba6",
            "ff54963796e046b08291a946c31f5609",
            "fe4f5516112944d8ae35e93fc5c99a4c",
            "2400c871f2024ba8b5ca760c11d361e0",
            "82ebd639f3da450e839ea38d659f84c1",
            "811f7761cab04a34937b228dfa68a8e6",
            "1f2aafb5059c475ab60b381844cf2bf7",
            "5f1141f780524bb99531a594c9f1f50c",
            "067aea41614f435fb1dbc97ee271e98b",
            "d24831a8ae61415daf76bd7c59e8ee69",
            "cb4cc571c45c4482b1cc92d2d2c46e18",
            "196091b3f15548289e11c22710b526b9",
            "5bd4c9456cf441c3a082795ab8c86998",
            "8126c296c1024d38aa09490e865fe716",
            "0b8d294c4a3247d692214b01c708e65c",
            "bdfe3b515b8346e0a4e182d461186646",
            "a5518ffefbfc4bab827cde0dd7d9ff74",
            "84dacc336ddc43d6b05b01bbf2f50bd3",
            "8f9f832909e84cc8956fcad189c6aef6",
            "603b60eabb434476a30261e1c8e5de20",
            "eb9312cace6a443d8e4c60c6c78c2cfa",
            "064d1e30adb342098683d59801764147",
            "96ec05bbfae0415a879e22823838ab80",
            "3d0ae0d27f7645128c32d30e52f1c889",
            "7a088f82e78240b7a1b5d5f0e0ac740c",
            "92fd3ade40234558ae8f9c09ba29171a",
            "c4e3ddbd48124f6ca4260b0fee4581fc",
            "390eac538a984534b7cfa09d28c7c114",
            "de376d443fc44a3d9e76f722c4715cbd",
            "524359cd0e174c0dae14ee67489bf811",
            "a04dd74471b748789e9cb6137494f980",
            "11641cbfa29443938cc10fc5fbcf72bf",
            "bd93febaabbf4fa8b0c4fce8d6919840",
            "76ae0619bb1c481f99ee10636bb03493",
            "e2867499d1684a8f97d2295e9ede8577",
            "62b616af593e47c88bba9d3298ac143b",
            "f656626c9d204232b11ce881b02a4b6e",
            "7042a9da27924023a9a055973b2617d3",
            "d840923a6f75429ba655349b55fd3b37",
            "6447a8041ca94a9687f7acb1459e8547",
            "36ae5a25935a4151a9be7a94a3095891",
            "0a3924dfb3d049c4930bcf961181c4ae",
            "fa82f61cde024cda8e0097698af83ed8",
            "68a2dfe34a514fd7814589bf26f08348",
            "854841aa3ef548168600bf7f751bdfa5",
            "5d69e695a5b94588aa61d8949c6ffab4",
            "c4fef5580f6844adbd1444798392a968",
            "3409e791865f48aeb3ac8e36817a890e",
            "6181aae582974a08918ed81cc6c9d10e",
            "5a4ec2f9468f425ab9c49fffeb757e77",
            "69af263fc3c1412e93bf4fc6c2718d07",
            "e150a95242bc4a4694ae4665a1245ddd",
            "c15e281123fc49ffaec407a2f3c7c3f7",
            "b062d36949af4c5fa19d730ae4b0891b",
            "fac6caaccb76487b94f9bcc8f1280257",
            "6b81e303d4f741f884bd2c220c283ee5",
            "bf599b97c3f34aa3ba01446f430ae188",
            "1e567b58ed754797a6ee337cd6e833db",
            "633a0bb16cda4432817f83d3096dfcad",
            "b425e0b5d2724557b7526f4b37561ee1",
            "21fba4a36a30443889fbedc104f110df",
            "52821f6d14a944b98aff91526103bea8",
            "3bbe530f833f4123afc1404b572cfd07",
            "24ccc9a0dd224c5db0b39c89074c69dc",
            "33bf36b41d8548debcd2eb4f1ab69eb2",
            "551e62ae209647fb95398cf20d5f1e38",
            "cd74135345974b15bdc5a2feb70a90af",
            "6c47fa7833c940399e01f00e180b4328",
            "da78e91f32db493a9fdd797d07918c6f",
            "21b324fce685493fb61710c4acc28e49",
            "76348464b5cb4fdf83dc841b4cd8a4b4",
            "f6cc1fc772cc49fe8bc74d003bf1d059",
            "35537d265cdf45209bf8921c8b1ba4a2",
            "de7d023c68e740a2ba659c86f74a7c7d",
            "9f288bc415044f4a81d84b88742be54b",
            "27faaa6d5c1e46ff9814637d8e1e2038",
            "f384b5c791f8411ca4fca9b584c69ca0",
            "42829f916ed8485d8e61b349652f8736",
            "57c949198f7e4d7787072dbaec429adf",
            "6e11d441c843423697e4d9c7d6aad89f",
            "95937582c4974e3f85ee6c408fd72010",
            "46dcc79da11040fc91d1105fdf027e54",
            "0e7273f8dd904a2bb1270d7ab6cb04ac",
            "199b8860ec7149d9b0234967cbb94902",
            "c1016dfccc7747cd942f0cda3bb8e577",
            "771043a9ecef46f6a267dfffff30326f",
            "39d09d3f74d14ffb8fb18bb581d915c3",
            "7b409e513904452b905de9d5ce18d88e",
            "a3ab9c761f8a4c719d41391209c7e986",
            "8825bf09d150403588c0802408bc6f73",
            "fc9ea96b0946438ba1f5c06140dc299a",
            "99bcfd07b7504cc39e5a88448a1e11f1",
            "8f169a0738ff434aa134b88010bc0aa2",
            "7baaaf0d25944d75adea471f30cf5f15",
            "d5dcaccfb925408893a1b2425341d4e8",
            "d58468c762c445d39863e2894901234f",
            "97fbe23c076f45a7943b9a3124e54ed4",
            "5317cc732c0b4112a1241bc660f01913",
            "9378067af405422e8d60063cc1961d19",
            "4183adad43b047e6b00d6dff8b0d8b39",
            "602cd7bfeb18469f8fa008b01ba27353",
            "40f66c3d362140b692429b9a30001a17",
            "b2420d40b37d4fe6a9c2037bce50ecc7",
            "88a1778c9fae44f399f225d062224b61",
            "a596f619fd3941fda484f4dcd6fdec1b",
            "999595828ddb471099d12eecd7fae3f7",
            "f3aee0a0fd7e4ac888eae721644d9279",
            "8ece74b2b81f465d95e1e4a39098e755",
            "02f1331cba6841968649576b58db82ee",
            "f50b0d2a0c8e4e96a5d3b17728e361a6",
            "cf56dca5c9d84a0abcd94faecd6d201e",
            "21f03b5d6c214b4881bf5b0f1c77b3f1",
            "b2851423701d40579d1054ba1a8fba53"
          ]
        },
        "id": "4t18g4RzfXBM",
        "outputId": "f2ee90b6-25dc-48f7-e88a-99c0ff88b4e3"
      },
      "outputs": [],
      "source": [
        "# Initialize tokenizers\n",
        "bert_tokenizer = BertTokenizer.from_pretrained('bert-base-uncased')\n",
        "bart_tokenizer = BartTokenizer.from_pretrained('facebook/bart-base')\n",
        "roberta_tokenizer = RobertaTokenizer.from_pretrained('roberta-base')\n",
        "\n",
        "# Create datasets\n",
        "train_dataset_bert = ABSADataset(train_final_data, bert_tokenizer)\n",
        "val_dataset_bert = ABSADataset(val_final_data, bert_tokenizer)\n",
        "\n",
        "train_dataset_bart = ABSADataset(train_final_data, bart_tokenizer)\n",
        "val_dataset_bart = ABSADataset(val_final_data, bart_tokenizer)\n",
        "\n",
        "train_dataset_roberta = ABSADataset(train_final_data, roberta_tokenizer)\n",
        "val_dataset_roberta = ABSADataset(val_final_data, roberta_tokenizer)\n",
        "\n",
        "# Create dataloaders\n",
        "train_dataloader_bert = DataLoader(train_dataset_bert, batch_size=32, shuffle=True)\n",
        "val_dataloader_bert = DataLoader(val_dataset_bert, batch_size=32, shuffle=False)\n",
        "\n",
        "train_dataloader_bart = DataLoader(train_dataset_bart, batch_size=32, shuffle=True)\n",
        "val_dataloader_bart = DataLoader(val_dataset_bart, batch_size=32, shuffle=False)\n",
        "\n",
        "train_dataloader_roberta = DataLoader(train_dataset_roberta, batch_size=32, shuffle=True)\n",
        "val_dataloader_roberta = DataLoader(val_dataset_roberta, batch_size=32, shuffle=False)\n",
        "\n",
        "# Initialize models\n",
        "device = torch.device(\"cuda\" if torch.cuda.is_available() else \"cpu\")\n",
        "output_dim = 4\n",
        "\n",
        "bert_model = BERTForABSA(output_dim=output_dim).to(device)\n",
        "bart_model = BARTForABSA(output_dim=output_dim).to(device)\n",
        "roberta_model = RoBERTaForABSA(output_dim=output_dim).to(device)\n",
        "\n",
        "\n"
      ]
    },
    {
      "cell_type": "code",
      "execution_count": 25,
      "metadata": {
        "id": "hHNFrXshh8Vs"
      },
      "outputs": [],
      "source": [
        "def train_model_finetune(model, train_dataloader, val_dataloader, device, lr_given, n_epochs):\n",
        "    # Initialize optimizer and loss function\n",
        "    optimizer = optim.Adam(model.parameters(), lr=lr_given)\n",
        "    criterion = nn.CrossEntropyLoss()\n",
        "\n",
        "    # Training loop\n",
        "    # n_epochs = 21\n",
        "    best_val_loss = float('inf')\n",
        "\n",
        "    train_losses = []\n",
        "    train_accs = []\n",
        "    val_losses = []\n",
        "    val_accs = []\n",
        "\n",
        "    for epoch in range(n_epochs):\n",
        "        print(f'Epoch {epoch+1}/{n_epochs}')\n",
        "\n",
        "        # Train and evaluate\n",
        "        train_loss, train_acc = train_model_batch(model, train_dataloader, optimizer, criterion, device)\n",
        "        val_loss, val_acc = evaluate_model(model, val_dataloader, criterion, device)\n",
        "\n",
        "        # Save metrics\n",
        "        train_losses.append(train_loss)\n",
        "        train_accs.append(train_acc)\n",
        "        val_losses.append(val_loss)\n",
        "        val_accs.append(val_acc)\n",
        "\n",
        "        print(f'Train Loss: {train_loss:.3f} | Train Acc: {train_acc*100:.5f}%')\n",
        "        print(f'Val Loss: {val_loss:.3f} | Val Acc: {val_acc*100:.5f}%')\n",
        "\n",
        "        # # Save best model\n",
        "        # if val_loss < best_val_loss:\n",
        "        #     best_val_loss = val_loss\n",
        "        #     torch.save(model.state_dict(), 'best-absa-model.pt')\n",
        "        #     print('Best model saved!')\n",
        "\n",
        "        print()\n",
        "    return train_losses, train_accs, val_losses, val_accs\n",
        "\n",
        "\n"
      ]
    },
    {
      "cell_type": "markdown",
      "metadata": {
        "id": "Ld9vHC9v9hPv"
      },
      "source": [
        "### BERT"
      ]
    },
    {
      "cell_type": "code",
      "execution_count": 26,
      "metadata": {
        "colab": {
          "base_uri": "https://localhost:8080/",
          "height": 1000
        },
        "id": "tXq9vN4Q9gx6",
        "outputId": "961229b0-70c1-49a4-f3fa-f502f6b12618"
      },
      "outputs": [
        {
          "name": "stdout",
          "output_type": "stream",
          "text": [
            "Fine-tuning BERT...\n",
            "Epoch 1/10\n"
          ]
        },
        {
          "name": "stderr",
          "output_type": "stream",
          "text": [
            "100%|██████████| 93/93 [00:59<00:00,  1.57it/s]\n"
          ]
        },
        {
          "name": "stdout",
          "output_type": "stream",
          "text": [
            "Train Loss: 0.927 | Train Acc: 61.57495%\n",
            "Val Loss: 0.829 | Val Acc: 67.85910%\n",
            "\n",
            "Epoch 2/10\n"
          ]
        },
        {
          "name": "stderr",
          "output_type": "stream",
          "text": [
            "100%|██████████| 93/93 [00:58<00:00,  1.59it/s]\n"
          ]
        },
        {
          "name": "stdout",
          "output_type": "stream",
          "text": [
            "Train Loss: 0.627 | Train Acc: 76.25119%\n",
            "Val Loss: 0.736 | Val Acc: 69.68202%\n",
            "\n",
            "Epoch 3/10\n"
          ]
        },
        {
          "name": "stderr",
          "output_type": "stream",
          "text": [
            "100%|██████████| 93/93 [00:58<00:00,  1.58it/s]\n"
          ]
        },
        {
          "name": "stdout",
          "output_type": "stream",
          "text": [
            "Train Loss: 0.493 | Train Acc: 81.96750%\n",
            "Val Loss: 0.677 | Val Acc: 72.82072%\n",
            "\n",
            "Epoch 4/10\n"
          ]
        },
        {
          "name": "stderr",
          "output_type": "stream",
          "text": [
            "100%|██████████| 93/93 [00:58<00:00,  1.58it/s]\n"
          ]
        },
        {
          "name": "stdout",
          "output_type": "stream",
          "text": [
            "Train Loss: 0.392 | Train Acc: 85.76455%\n",
            "Val Loss: 0.643 | Val Acc: 72.38213%\n",
            "\n",
            "Epoch 5/10\n"
          ]
        },
        {
          "name": "stderr",
          "output_type": "stream",
          "text": [
            "100%|██████████| 93/93 [00:58<00:00,  1.59it/s]\n"
          ]
        },
        {
          "name": "stdout",
          "output_type": "stream",
          "text": [
            "Train Loss: 0.315 | Train Acc: 88.51202%\n",
            "Val Loss: 0.669 | Val Acc: 73.94463%\n",
            "\n",
            "Epoch 6/10\n"
          ]
        },
        {
          "name": "stderr",
          "output_type": "stream",
          "text": [
            "100%|██████████| 93/93 [00:58<00:00,  1.59it/s]\n"
          ]
        },
        {
          "name": "stdout",
          "output_type": "stream",
          "text": [
            "Train Loss: 0.238 | Train Acc: 91.93944%\n",
            "Val Loss: 0.667 | Val Acc: 74.98629%\n",
            "\n",
            "Epoch 7/10\n"
          ]
        },
        {
          "name": "stderr",
          "output_type": "stream",
          "text": [
            "100%|██████████| 93/93 [00:58<00:00,  1.59it/s]\n"
          ]
        },
        {
          "name": "stdout",
          "output_type": "stream",
          "text": [
            "Train Loss: 0.193 | Train Acc: 93.65315%\n",
            "Val Loss: 0.697 | Val Acc: 76.98739%\n",
            "\n",
            "Epoch 8/10\n"
          ]
        },
        {
          "name": "stderr",
          "output_type": "stream",
          "text": [
            "100%|██████████| 93/93 [00:58<00:00,  1.59it/s]\n"
          ]
        },
        {
          "name": "stdout",
          "output_type": "stream",
          "text": [
            "Train Loss: 0.152 | Train Acc: 95.26605%\n",
            "Val Loss: 0.688 | Val Acc: 76.72697%\n",
            "\n",
            "Epoch 9/10\n"
          ]
        },
        {
          "name": "stderr",
          "output_type": "stream",
          "text": [
            "100%|██████████| 93/93 [00:58<00:00,  1.59it/s]\n"
          ]
        },
        {
          "name": "stdout",
          "output_type": "stream",
          "text": [
            "Train Loss: 0.111 | Train Acc: 96.64769%\n",
            "Val Loss: 0.729 | Val Acc: 74.98629%\n",
            "\n",
            "Epoch 10/10\n"
          ]
        },
        {
          "name": "stderr",
          "output_type": "stream",
          "text": [
            "100%|██████████| 93/93 [00:58<00:00,  1.59it/s]\n"
          ]
        },
        {
          "name": "stdout",
          "output_type": "stream",
          "text": [
            "Train Loss: 0.090 | Train Acc: 97.58065%\n",
            "Val Loss: 0.768 | Val Acc: 74.64364%\n",
            "\n"
          ]
        },
        {
          "data": {
            "image/png": "[encoded data removed]",
            "text/plain": [
              "<Figure size 1200x500 with 2 Axes>"
            ]
          },
          "metadata": {},
          "output_type": "display_data"
        }
      ],
      "source": [
        "# Fine-tune and evaluate BERT\n",
        "print(\"Fine-tuning BERT...\")\n",
        "bert_train_losses, bert_train_accs, bert_val_losses, bert_val_accs = train_model_finetune(\n",
        "    model=bert_model,\n",
        "    train_dataloader=train_dataloader_bert,\n",
        "    val_dataloader=val_dataloader_bert,\n",
        "    device=device,\n",
        "    lr_given=1e-5,\n",
        "    n_epochs=10\n",
        ")\n",
        "plot(bert_train_losses, bert_train_accs, bert_val_losses, bert_val_accs)\n"
      ]
    },
    {
      "cell_type": "markdown",
      "metadata": {
        "id": "23uUe6_q9lEq"
      },
      "source": [
        "### BART"
      ]
    },
    {
      "cell_type": "code",
      "execution_count": 27,
      "metadata": {
        "colab": {
          "base_uri": "https://localhost:8080/",
          "height": 1000
        },
        "id": "UzHO3aqp9bLS",
        "outputId": "df2c79b4-45e2-4b9f-8776-04d79cbff83e"
      },
      "outputs": [
        {
          "name": "stdout",
          "output_type": "stream",
          "text": [
            "Fine-tuning BART...\n",
            "Epoch 1/10\n"
          ]
        },
        {
          "name": "stderr",
          "output_type": "stream",
          "text": [
            "100%|██████████| 93/93 [01:10<00:00,  1.32it/s]\n"
          ]
        },
        {
          "name": "stdout",
          "output_type": "stream",
          "text": [
            "Train Loss: 1.116 | Train Acc: 57.58025%\n",
            "Val Loss: 0.923 | Val Acc: 64.21327%\n",
            "\n",
            "Epoch 2/10\n"
          ]
        },
        {
          "name": "stderr",
          "output_type": "stream",
          "text": [
            "100%|██████████| 93/93 [01:10<00:00,  1.32it/s]\n"
          ]
        },
        {
          "name": "stdout",
          "output_type": "stream",
          "text": [
            "Train Loss: 0.777 | Train Acc: 69.57622%\n",
            "Val Loss: 0.823 | Val Acc: 62.84265%\n",
            "\n",
            "Epoch 3/10\n"
          ]
        },
        {
          "name": "stderr",
          "output_type": "stream",
          "text": [
            "100%|██████████| 93/93 [01:10<00:00,  1.32it/s]\n"
          ]
        },
        {
          "name": "stdout",
          "output_type": "stream",
          "text": [
            "Train Loss: 0.655 | Train Acc: 75.95272%\n",
            "Val Loss: 0.875 | Val Acc: 66.73520%\n",
            "\n",
            "Epoch 4/10\n"
          ]
        },
        {
          "name": "stderr",
          "output_type": "stream",
          "text": [
            "100%|██████████| 93/93 [01:10<00:00,  1.32it/s]\n"
          ]
        },
        {
          "name": "stdout",
          "output_type": "stream",
          "text": [
            "Train Loss: 0.513 | Train Acc: 80.48110%\n",
            "Val Loss: 0.960 | Val Acc: 67.17379%\n",
            "\n",
            "Epoch 5/10\n"
          ]
        },
        {
          "name": "stderr",
          "output_type": "stream",
          "text": [
            "100%|██████████| 93/93 [01:10<00:00,  1.32it/s]\n"
          ]
        },
        {
          "name": "stdout",
          "output_type": "stream",
          "text": [
            "Train Loss: 0.443 | Train Acc: 84.31175%\n",
            "Val Loss: 1.134 | Val Acc: 60.73191%\n",
            "\n",
            "Epoch 6/10\n"
          ]
        },
        {
          "name": "stderr",
          "output_type": "stream",
          "text": [
            "100%|██████████| 93/93 [01:10<00:00,  1.32it/s]\n"
          ]
        },
        {
          "name": "stdout",
          "output_type": "stream",
          "text": [
            "Train Loss: 0.381 | Train Acc: 86.10057%\n",
            "Val Loss: 1.101 | Val Acc: 64.65186%\n",
            "\n",
            "Epoch 7/10\n"
          ]
        },
        {
          "name": "stderr",
          "output_type": "stream",
          "text": [
            "100%|██████████| 93/93 [01:10<00:00,  1.32it/s]\n"
          ]
        },
        {
          "name": "stdout",
          "output_type": "stream",
          "text": [
            "Train Loss: 0.317 | Train Acc: 89.05756%\n",
            "Val Loss: 0.980 | Val Acc: 64.99452%\n",
            "\n",
            "Epoch 8/10\n"
          ]
        },
        {
          "name": "stderr",
          "output_type": "stream",
          "text": [
            "100%|██████████| 93/93 [01:10<00:00,  1.32it/s]\n"
          ]
        },
        {
          "name": "stdout",
          "output_type": "stream",
          "text": [
            "Train Loss: 0.268 | Train Acc: 90.83847%\n",
            "Val Loss: 1.048 | Val Acc: 63.59649%\n",
            "\n",
            "Epoch 9/10\n"
          ]
        },
        {
          "name": "stderr",
          "output_type": "stream",
          "text": [
            "100%|██████████| 93/93 [01:10<00:00,  1.32it/s]\n"
          ]
        },
        {
          "name": "stdout",
          "output_type": "stream",
          "text": [
            "Train Loss: 0.297 | Train Acc: 89.29277%\n",
            "Val Loss: 1.141 | Val Acc: 62.12993%\n",
            "\n",
            "Epoch 10/10\n"
          ]
        },
        {
          "name": "stderr",
          "output_type": "stream",
          "text": [
            "100%|██████████| 93/93 [01:10<00:00,  1.32it/s]\n"
          ]
        },
        {
          "name": "stdout",
          "output_type": "stream",
          "text": [
            "Train Loss: 0.266 | Train Acc: 90.25538%\n",
            "Val Loss: 1.218 | Val Acc: 65.95395%\n",
            "\n"
          ]
        },
        {
          "data": {
            "image/png": "[encoded data removed]",
            "text/plain": [
              "<Figure size 1200x500 with 2 Axes>"
            ]
          },
          "metadata": {},
          "output_type": "display_data"
        }
      ],
      "source": [
        "# Fine-tune and evaluate BART\n",
        "print(\"Fine-tuning BART...\")\n",
        "bart_train_losses, bart_train_accs, bart_val_losses, bart_val_accs = train_model_finetune(\n",
        "    model=bart_model,\n",
        "    train_dataloader=train_dataloader_bart,\n",
        "    val_dataloader=val_dataloader_bart,\n",
        "    device=device,\n",
        "    lr_given=2e-4,\n",
        "    n_epochs=10\n",
        ")\n",
        "plot(bart_train_losses, bart_train_accs, bart_val_losses, bart_val_accs)\n",
        "\n"
      ]
    },
    {
      "cell_type": "markdown",
      "metadata": {
        "id": "rqHKyDPX9mu2"
      },
      "source": [
        "### RoBERTa"
      ]
    },
    {
      "cell_type": "code",
      "execution_count": 28,
      "metadata": {
        "colab": {
          "base_uri": "https://localhost:8080/",
          "height": 1000
        },
        "id": "UiLmoHwx9d1e",
        "outputId": "7f5d8ff2-8727-46b1-9588-edc123008c8e"
      },
      "outputs": [
        {
          "name": "stdout",
          "output_type": "stream",
          "text": [
            "Fine-tuning RoBERTa...\n",
            "Epoch 1/10\n"
          ]
        },
        {
          "name": "stderr",
          "output_type": "stream",
          "text": [
            "100%|██████████| 93/93 [00:58<00:00,  1.60it/s]\n"
          ]
        },
        {
          "name": "stdout",
          "output_type": "stream",
          "text": [
            "Train Loss: 3.621 | Train Acc: 45.85508%\n",
            "Val Loss: 2.062 | Val Acc: 56.56524%\n",
            "\n",
            "Epoch 2/10\n"
          ]
        },
        {
          "name": "stderr",
          "output_type": "stream",
          "text": [
            "100%|██████████| 93/93 [00:57<00:00,  1.61it/s]\n"
          ]
        },
        {
          "name": "stdout",
          "output_type": "stream",
          "text": [
            "Train Loss: 1.282 | Train Acc: 52.77119%\n",
            "Val Loss: 1.701 | Val Acc: 56.56524%\n",
            "\n",
            "Epoch 3/10\n"
          ]
        },
        {
          "name": "stderr",
          "output_type": "stream",
          "text": [
            "100%|██████████| 93/93 [00:57<00:00,  1.61it/s]\n"
          ]
        },
        {
          "name": "stdout",
          "output_type": "stream",
          "text": [
            "Train Loss: 1.149 | Train Acc: 54.29910%\n",
            "Val Loss: 1.297 | Val Acc: 56.56524%\n",
            "\n",
            "Epoch 4/10\n"
          ]
        },
        {
          "name": "stderr",
          "output_type": "stream",
          "text": [
            "100%|██████████| 93/93 [00:57<00:00,  1.61it/s]\n"
          ]
        },
        {
          "name": "stdout",
          "output_type": "stream",
          "text": [
            "Train Loss: 1.190 | Train Acc: 51.58918%\n",
            "Val Loss: 1.369 | Val Acc: 56.56524%\n",
            "\n",
            "Epoch 5/10\n"
          ]
        },
        {
          "name": "stderr",
          "output_type": "stream",
          "text": [
            "100%|██████████| 93/93 [00:57<00:00,  1.61it/s]\n"
          ]
        },
        {
          "name": "stdout",
          "output_type": "stream",
          "text": [
            "Train Loss: 1.168 | Train Acc: 55.04230%\n",
            "Val Loss: 1.361 | Val Acc: 56.56524%\n",
            "\n",
            "Epoch 6/10\n"
          ]
        },
        {
          "name": "stderr",
          "output_type": "stream",
          "text": [
            "100%|██████████| 93/93 [00:57<00:00,  1.61it/s]\n"
          ]
        },
        {
          "name": "stdout",
          "output_type": "stream",
          "text": [
            "Train Loss: 1.142 | Train Acc: 53.38789%\n",
            "Val Loss: 1.282 | Val Acc: 56.56524%\n",
            "\n",
            "Epoch 7/10\n"
          ]
        },
        {
          "name": "stderr",
          "output_type": "stream",
          "text": [
            "100%|██████████| 93/93 [00:57<00:00,  1.61it/s]\n"
          ]
        },
        {
          "name": "stdout",
          "output_type": "stream",
          "text": [
            "Train Loss: 1.165 | Train Acc: 52.54783%\n",
            "Val Loss: 1.259 | Val Acc: 56.56524%\n",
            "\n",
            "Epoch 8/10\n"
          ]
        },
        {
          "name": "stderr",
          "output_type": "stream",
          "text": [
            "100%|██████████| 93/93 [00:57<00:00,  1.60it/s]\n"
          ]
        },
        {
          "name": "stdout",
          "output_type": "stream",
          "text": [
            "Train Loss: 1.137 | Train Acc: 53.18232%\n",
            "Val Loss: 1.112 | Val Acc: 56.56524%\n",
            "\n",
            "Epoch 9/10\n"
          ]
        },
        {
          "name": "stderr",
          "output_type": "stream",
          "text": [
            "100%|██████████| 93/93 [00:57<00:00,  1.61it/s]\n"
          ]
        },
        {
          "name": "stdout",
          "output_type": "stream",
          "text": [
            "Train Loss: 1.138 | Train Acc: 53.82867%\n",
            "Val Loss: 1.109 | Val Acc: 56.56524%\n",
            "\n",
            "Epoch 10/10\n"
          ]
        },
        {
          "name": "stderr",
          "output_type": "stream",
          "text": [
            "100%|██████████| 93/93 [00:57<00:00,  1.61it/s]\n"
          ]
        },
        {
          "name": "stdout",
          "output_type": "stream",
          "text": [
            "Train Loss: 1.123 | Train Acc: 55.17671%\n",
            "Val Loss: 1.149 | Val Acc: 56.56524%\n",
            "\n"
          ]
        },
        {
          "data": {
            "image/png": "[encoded data removed]",
            "text/plain": [
              "<Figure size 1200x500 with 2 Axes>"
            ]
          },
          "metadata": {},
          "output_type": "display_data"
        }
      ],
      "source": [
        "# Fine-tune and evaluate RoBERTa\n",
        "print(\"Fine-tuning RoBERTa...\")\n",
        "roberta_train_losses, roberta_train_accs, roberta_val_losses, roberta_val_accs = train_model_finetune(\n",
        "    model=roberta_model,\n",
        "    train_dataloader=train_dataloader_roberta,\n",
        "    val_dataloader=val_dataloader_roberta,\n",
        "    device=device,\n",
        "    lr_given=5e-2,\n",
        "    n_epochs=10\n",
        ")\n",
        "plot(roberta_train_losses, roberta_train_accs, roberta_val_losses, roberta_val_accs)"
      ]
    },
    {
      "cell_type": "markdown",
      "metadata": {
        "id": "vgbsz_mAEE9p"
      },
      "source": [
        "## Task 2.5"
      ]
    },
    {
      "cell_type": "code",
      "execution_count": 29,
      "metadata": {
        "colab": {
          "base_uri": "https://localhost:8080/"
        },
        "id": "eFugSLDBEEX5",
        "outputId": "7f78e806-cafc-4032-bbee-7770caf4972b"
      },
      "outputs": [
        {
          "name": "stdout",
          "output_type": "stream",
          "text": [
            "Test Accuracy: 72.78%\n"
          ]
        }
      ],
      "source": [
        "import json\n",
        "import torch\n",
        "from torch.utils.data import DataLoader\n",
        "from transformers import BertTokenizer, BertModel\n",
        "from sklearn.metrics import accuracy_score\n",
        "\n",
        "def test_inference(test_file_path, model_path='best-absa-model.pt'):\n",
        "\n",
        "    # Load test data\n",
        "    with open(test_file_path, \"r\", encoding=\"utf-8\") as file:\n",
        "        test_data = json.load(file)\n",
        "\n",
        "    # Preprocess test data - assuming you have the preprocess_data function\n",
        "    test_final = preprocess_data(test_data)\n",
        "\n",
        "    # Initialize BERT tokenizer\n",
        "    tokenizer = BertTokenizer.from_pretrained('bert-base-uncased')\n",
        "\n",
        "    # Create test dataset\n",
        "    test_dataset = ABSADataset(test_final, tokenizer)\n",
        "\n",
        "    # Create dataloader\n",
        "    test_dataloader = DataLoader(test_dataset, batch_size=32)\n",
        "\n",
        "    # Load the trained model\n",
        "    device = torch.device('cuda' if torch.cuda.is_available() else 'cpu')\n",
        "\n",
        "    # Initialize your model architecture - you'll need to define this based on your specific model\n",
        "    # For example:\n",
        "    bert_model = BertModel.from_pretrained('bert-base-uncased')\n",
        "    model = TD_LSTM_GCN(\n",
        "    hidden_dim=256,\n",
        "    num_gcn_layers=2,\n",
        "    output_dim=4)\n",
        "\n",
        "    # Load state dictionary\n",
        "    model_state = torch.load(model_path, map_location=device)\n",
        "\n",
        "    model.load_state_dict(model_state)\n",
        "\n",
        "    model.to(device)\n",
        "    model.eval()\n",
        "\n",
        "    # Perform inference\n",
        "    all_predictions = []\n",
        "    all_labels = []\n",
        "\n",
        "    with torch.no_grad():\n",
        "        for batch in test_dataloader:\n",
        "            # Move batch to device\n",
        "            input_ids = batch['input_ids'].to(device)\n",
        "            attention_mask = batch['attention_mask'].to(device)\n",
        "            token_type_ids = batch['token_type_ids'].to(device)\n",
        "            aspect_mask = batch['aspect_mask'].to(device)\n",
        "            polarity = batch['polarity'].to(device)\n",
        "\n",
        "            # Forward pass\n",
        "            outputs = model(input_ids, attention_mask, token_type_ids, aspect_mask)\n",
        "            _, preds = torch.max(outputs, 1)\n",
        "\n",
        "            # Collect predictions and labels\n",
        "            all_predictions.extend(preds.cpu().numpy())\n",
        "            all_labels.extend(polarity.cpu().numpy())\n",
        "    # Calculate accuracy\n",
        "    accuracy = accuracy_score(all_labels, all_predictions)\n",
        "    print(f\"Test Accuracy: {accuracy * 100:.2f}%\")\n",
        "\n",
        "test_inference(\"val.json\")"
      ]
    }
  ],
  "metadata": {
    "accelerator": "GPU",
    "colab": {
      "gpuType": "T4",
      "provenance": []
    },
    "kernelspec": {
      "display_name": "Python 3",
      "name": "python3"
    },
    "language_info": {
      "codemirror_mode": {
        "name": "ipython",
        "version": 3
      },
      "file_extension": ".py",
      "mimetype": "text/x-python",
      "name": "python",
      "nbconvert_exporter": "python",
      "pygments_lexer": "ipython3",
      "version": "3.10.7"
    },
    "widgets": {
      "application/vnd.jupyter.widget-state+json": {
        "0154e42dbdbe462487d4957ce797b3e5": {
          "model_module": "@jupyter-widgets/base",
          "model_module_version": "1.2.0",
          "model_name": "LayoutModel",
          "state": {
            "_model_module": "@jupyter-widgets/base",
            "_model_module_version": "1.2.0",
            "_model_name": "LayoutModel",
            "_view_count": null,
            "_view_module": "@jupyter-widgets/base",
            "_view_module_version": "1.2.0",
            "_view_name": "LayoutView",
            "align_content": null,
            "align_items": null,
            "align_self": null,
            "border": null,
            "bottom": null,
            "display": null,
            "flex": null,
            "flex_flow": null,
            "grid_area": null,
            "grid_auto_columns": null,
            "grid_auto_flow": null,
            "grid_auto_rows": null,
            "grid_column": null,
            "grid_gap": null,
            "grid_row": null,
            "grid_template_areas": null,
            "grid_template_columns": null,
            "grid_template_rows": null,
            "height": null,
            "justify_content": null,
            "justify_items": null,
            "left": null,
            "margin": null,
            "max_height": null,
            "max_width": null,
            "min_height": null,
            "min_width": null,
            "object_fit": null,
            "object_position": null,
            "order": null,
            "overflow": null,
            "overflow_x": null,
            "overflow_y": null,
            "padding": null,
            "right": null,
            "top": null,
            "visibility": null,
            "width": null
          }
        },
        "02f1331cba6841968649576b58db82ee": {
          "model_module": "@jupyter-widgets/controls",
          "model_module_version": "1.5.0",
          "model_name": "DescriptionStyleModel",
          "state": {
            "_model_module": "@jupyter-widgets/controls",
            "_model_module_version": "1.5.0",
            "_model_name": "DescriptionStyleModel",
            "_view_count": null,
            "_view_module": "@jupyter-widgets/base",
            "_view_module_version": "1.2.0",
            "_view_name": "StyleView",
            "description_width": ""
          }
        },
        "064d1e30adb342098683d59801764147": {
          "model_module": "@jupyter-widgets/base",
          "model_module_version": "1.2.0",
          "model_name": "LayoutModel",
          "state": {
            "_model_module": "@jupyter-widgets/base",
            "_model_module_version": "1.2.0",
            "_model_name": "LayoutModel",
            "_view_count": null,
            "_view_module": "@jupyter-widgets/base",
            "_view_module_version": "1.2.0",
            "_view_name": "LayoutView",
            "align_content": null,
            "align_items": null,
            "align_self": null,
            "border": null,
            "bottom": null,
            "display": null,
            "flex": null,
            "flex_flow": null,
            "grid_area": null,
            "grid_auto_columns": null,
            "grid_auto_flow": null,
            "grid_auto_rows": null,
            "grid_column": null,
            "grid_gap": null,
            "grid_row": null,
            "grid_template_areas": null,
            "grid_template_columns": null,
            "grid_template_rows": null,
            "height": null,
            "justify_content": null,
            "justify_items": null,
            "left": null,
            "margin": null,
            "max_height": null,
            "max_width": null,
            "min_height": null,
            "min_width": null,
            "object_fit": null,
            "object_position": null,
            "order": null,
            "overflow": null,
            "overflow_x": null,
            "overflow_y": null,
            "padding": null,
            "right": null,
            "top": null,
            "visibility": null,
            "width": null
          }
        },
        "067aea41614f435fb1dbc97ee271e98b": {
          "model_module": "@jupyter-widgets/base",
          "model_module_version": "1.2.0",
          "model_name": "LayoutModel",
          "state": {
            "_model_module": "@jupyter-widgets/base",
            "_model_module_version": "1.2.0",
            "_model_name": "LayoutModel",
            "_view_count": null,
            "_view_module": "@jupyter-widgets/base",
            "_view_module_version": "1.2.0",
            "_view_name": "LayoutView",
            "align_content": null,
            "align_items": null,
            "align_self": null,
            "border": null,
            "bottom": null,
            "display": null,
            "flex": null,
            "flex_flow": null,
            "grid_area": null,
            "grid_auto_columns": null,
            "grid_auto_flow": null,
            "grid_auto_rows": null,
            "grid_column": null,
            "grid_gap": null,
            "grid_row": null,
            "grid_template_areas": null,
            "grid_template_columns": null,
            "grid_template_rows": null,
            "height": null,
            "justify_content": null,
            "justify_items": null,
            "left": null,
            "margin": null,
            "max_height": null,
            "max_width": null,
            "min_height": null,
            "min_width": null,
            "object_fit": null,
            "object_position": null,
            "order": null,
            "overflow": null,
            "overflow_x": null,
            "overflow_y": null,
            "padding": null,
            "right": null,
            "top": null,
            "visibility": null,
            "width": null
          }
        },
        "0a3924dfb3d049c4930bcf961181c4ae": {
          "model_module": "@jupyter-widgets/base",
          "model_module_version": "1.2.0",
          "model_name": "LayoutModel",
          "state": {
            "_model_module": "@jupyter-widgets/base",
            "_model_module_version": "1.2.0",
            "_model_name": "LayoutModel",
            "_view_count": null,
            "_view_module": "@jupyter-widgets/base",
            "_view_module_version": "1.2.0",
            "_view_name": "LayoutView",
            "align_content": null,
            "align_items": null,
            "align_self": null,
            "border": null,
            "bottom": null,
            "display": null,
            "flex": null,
            "flex_flow": null,
            "grid_area": null,
            "grid_auto_columns": null,
            "grid_auto_flow": null,
            "grid_auto_rows": null,
            "grid_column": null,
            "grid_gap": null,
            "grid_row": null,
            "grid_template_areas": null,
            "grid_template_columns": null,
            "grid_template_rows": null,
            "height": null,
            "justify_content": null,
            "justify_items": null,
            "left": null,
            "margin": null,
            "max_height": null,
            "max_width": null,
            "min_height": null,
            "min_width": null,
            "object_fit": null,
            "object_position": null,
            "order": null,
            "overflow": null,
            "overflow_x": null,
            "overflow_y": null,
            "padding": null,
            "right": null,
            "top": null,
            "visibility": null,
            "width": null
          }
        },
        "0b8d294c4a3247d692214b01c708e65c": {
          "model_module": "@jupyter-widgets/controls",
          "model_module_version": "1.5.0",
          "model_name": "HBoxModel",
          "state": {
            "_dom_classes": [],
            "_model_module": "@jupyter-widgets/controls",
            "_model_module_version": "1.5.0",
            "_model_name": "HBoxModel",
            "_view_count": null,
            "_view_module": "@jupyter-widgets/controls",
            "_view_module_version": "1.5.0",
            "_view_name": "HBoxView",
            "box_style": "",
            "children": [
              "IPY_MODEL_bdfe3b515b8346e0a4e182d461186646",
              "IPY_MODEL_a5518ffefbfc4bab827cde0dd7d9ff74",
              "IPY_MODEL_84dacc336ddc43d6b05b01bbf2f50bd3"
            ],
            "layout": "IPY_MODEL_8f9f832909e84cc8956fcad189c6aef6"
          }
        },
        "0e7273f8dd904a2bb1270d7ab6cb04ac": {
          "model_module": "@jupyter-widgets/controls",
          "model_module_version": "1.5.0",
          "model_name": "FloatProgressModel",
          "state": {
            "_dom_classes": [],
            "_model_module": "@jupyter-widgets/controls",
            "_model_module_version": "1.5.0",
            "_model_name": "FloatProgressModel",
            "_view_count": null,
            "_view_module": "@jupyter-widgets/controls",
            "_view_module_version": "1.5.0",
            "_view_name": "ProgressView",
            "bar_style": "success",
            "description": "",
            "description_tooltip": null,
            "layout": "IPY_MODEL_7b409e513904452b905de9d5ce18d88e",
            "max": 481,
            "min": 0,
            "orientation": "horizontal",
            "style": "IPY_MODEL_a3ab9c761f8a4c719d41391209c7e986",
            "value": 481
          }
        },
        "11641cbfa29443938cc10fc5fbcf72bf": {
          "model_module": "@jupyter-widgets/controls",
          "model_module_version": "1.5.0",
          "model_name": "DescriptionStyleModel",
          "state": {
            "_model_module": "@jupyter-widgets/controls",
            "_model_module_version": "1.5.0",
            "_model_name": "DescriptionStyleModel",
            "_view_count": null,
            "_view_module": "@jupyter-widgets/base",
            "_view_module_version": "1.2.0",
            "_view_name": "StyleView",
            "description_width": ""
          }
        },
        "196091b3f15548289e11c22710b526b9": {
          "model_module": "@jupyter-widgets/controls",
          "model_module_version": "1.5.0",
          "model_name": "ProgressStyleModel",
          "state": {
            "_model_module": "@jupyter-widgets/controls",
            "_model_module_version": "1.5.0",
            "_model_name": "ProgressStyleModel",
            "_view_count": null,
            "_view_module": "@jupyter-widgets/base",
            "_view_module_version": "1.2.0",
            "_view_name": "StyleView",
            "bar_color": null,
            "description_width": ""
          }
        },
        "199b8860ec7149d9b0234967cbb94902": {
          "model_module": "@jupyter-widgets/controls",
          "model_module_version": "1.5.0",
          "model_name": "HTMLModel",
          "state": {
            "_dom_classes": [],
            "_model_module": "@jupyter-widgets/controls",
            "_model_module_version": "1.5.0",
            "_model_name": "HTMLModel",
            "_view_count": null,
            "_view_module": "@jupyter-widgets/controls",
            "_view_module_version": "1.5.0",
            "_view_name": "HTMLView",
            "description": "",
            "description_tooltip": null,
            "layout": "IPY_MODEL_8825bf09d150403588c0802408bc6f73",
            "placeholder": "​",
            "style": "IPY_MODEL_fc9ea96b0946438ba1f5c06140dc299a",
            "value": " 481/481 [00:00&lt;00:00, 41.9kB/s]"
          }
        },
        "1e567b58ed754797a6ee337cd6e833db": {
          "model_module": "@jupyter-widgets/controls",
          "model_module_version": "1.5.0",
          "model_name": "DescriptionStyleModel",
          "state": {
            "_model_module": "@jupyter-widgets/controls",
            "_model_module_version": "1.5.0",
            "_model_name": "DescriptionStyleModel",
            "_view_count": null,
            "_view_module": "@jupyter-widgets/base",
            "_view_module_version": "1.2.0",
            "_view_name": "StyleView",
            "description_width": ""
          }
        },
        "1f2aafb5059c475ab60b381844cf2bf7": {
          "model_module": "@jupyter-widgets/controls",
          "model_module_version": "1.5.0",
          "model_name": "HTMLModel",
          "state": {
            "_dom_classes": [],
            "_model_module": "@jupyter-widgets/controls",
            "_model_module_version": "1.5.0",
            "_model_name": "HTMLModel",
            "_view_count": null,
            "_view_module": "@jupyter-widgets/controls",
            "_view_module_version": "1.5.0",
            "_view_name": "HTMLView",
            "description": "",
            "description_tooltip": null,
            "layout": "IPY_MODEL_5bd4c9456cf441c3a082795ab8c86998",
            "placeholder": "​",
            "style": "IPY_MODEL_8126c296c1024d38aa09490e865fe716",
            "value": " 456k/456k [00:00&lt;00:00, 23.3MB/s]"
          }
        },
        "21b324fce685493fb61710c4acc28e49": {
          "model_module": "@jupyter-widgets/controls",
          "model_module_version": "1.5.0",
          "model_name": "HBoxModel",
          "state": {
            "_dom_classes": [],
            "_model_module": "@jupyter-widgets/controls",
            "_model_module_version": "1.5.0",
            "_model_name": "HBoxModel",
            "_view_count": null,
            "_view_module": "@jupyter-widgets/controls",
            "_view_module_version": "1.5.0",
            "_view_name": "HBoxView",
            "box_style": "",
            "children": [
              "IPY_MODEL_76348464b5cb4fdf83dc841b4cd8a4b4",
              "IPY_MODEL_f6cc1fc772cc49fe8bc74d003bf1d059",
              "IPY_MODEL_35537d265cdf45209bf8921c8b1ba4a2"
            ],
            "layout": "IPY_MODEL_de7d023c68e740a2ba659c86f74a7c7d"
          }
        },
        "21f03b5d6c214b4881bf5b0f1c77b3f1": {
          "model_module": "@jupyter-widgets/base",
          "model_module_version": "1.2.0",
          "model_name": "LayoutModel",
          "state": {
            "_model_module": "@jupyter-widgets/base",
            "_model_module_version": "1.2.0",
            "_model_name": "LayoutModel",
            "_view_count": null,
            "_view_module": "@jupyter-widgets/base",
            "_view_module_version": "1.2.0",
            "_view_name": "LayoutView",
            "align_content": null,
            "align_items": null,
            "align_self": null,
            "border": null,
            "bottom": null,
            "display": null,
            "flex": null,
            "flex_flow": null,
            "grid_area": null,
            "grid_auto_columns": null,
            "grid_auto_flow": null,
            "grid_auto_rows": null,
            "grid_column": null,
            "grid_gap": null,
            "grid_row": null,
            "grid_template_areas": null,
            "grid_template_columns": null,
            "grid_template_rows": null,
            "height": null,
            "justify_content": null,
            "justify_items": null,
            "left": null,
            "margin": null,
            "max_height": null,
            "max_width": null,
            "min_height": null,
            "min_width": null,
            "object_fit": null,
            "object_position": null,
            "order": null,
            "overflow": null,
            "overflow_x": null,
            "overflow_y": null,
            "padding": null,
            "right": null,
            "top": null,
            "visibility": null,
            "width": null
          }
        },
        "21fba4a36a30443889fbedc104f110df": {
          "model_module": "@jupyter-widgets/controls",
          "model_module_version": "1.5.0",
          "model_name": "FloatProgressModel",
          "state": {
            "_dom_classes": [],
            "_model_module": "@jupyter-widgets/controls",
            "_model_module_version": "1.5.0",
            "_model_name": "FloatProgressModel",
            "_view_count": null,
            "_view_module": "@jupyter-widgets/controls",
            "_view_module_version": "1.5.0",
            "_view_name": "ProgressView",
            "bar_style": "success",
            "description": "",
            "description_tooltip": null,
            "layout": "IPY_MODEL_551e62ae209647fb95398cf20d5f1e38",
            "max": 456318,
            "min": 0,
            "orientation": "horizontal",
            "style": "IPY_MODEL_cd74135345974b15bdc5a2feb70a90af",
            "value": 456318
          }
        },
        "2400c871f2024ba8b5ca760c11d361e0": {
          "model_module": "@jupyter-widgets/controls",
          "model_module_version": "1.5.0",
          "model_name": "HBoxModel",
          "state": {
            "_dom_classes": [],
            "_model_module": "@jupyter-widgets/controls",
            "_model_module_version": "1.5.0",
            "_model_name": "HBoxModel",
            "_view_count": null,
            "_view_module": "@jupyter-widgets/controls",
            "_view_module_version": "1.5.0",
            "_view_name": "HBoxView",
            "box_style": "",
            "children": [
              "IPY_MODEL_82ebd639f3da450e839ea38d659f84c1",
              "IPY_MODEL_811f7761cab04a34937b228dfa68a8e6",
              "IPY_MODEL_1f2aafb5059c475ab60b381844cf2bf7"
            ],
            "layout": "IPY_MODEL_5f1141f780524bb99531a594c9f1f50c"
          }
        },
        "24ccc9a0dd224c5db0b39c89074c69dc": {
          "model_module": "@jupyter-widgets/base",
          "model_module_version": "1.2.0",
          "model_name": "LayoutModel",
          "state": {
            "_model_module": "@jupyter-widgets/base",
            "_model_module_version": "1.2.0",
            "_model_name": "LayoutModel",
            "_view_count": null,
            "_view_module": "@jupyter-widgets/base",
            "_view_module_version": "1.2.0",
            "_view_name": "LayoutView",
            "align_content": null,
            "align_items": null,
            "align_self": null,
            "border": null,
            "bottom": null,
            "display": null,
            "flex": null,
            "flex_flow": null,
            "grid_area": null,
            "grid_auto_columns": null,
            "grid_auto_flow": null,
            "grid_auto_rows": null,
            "grid_column": null,
            "grid_gap": null,
            "grid_row": null,
            "grid_template_areas": null,
            "grid_template_columns": null,
            "grid_template_rows": null,
            "height": null,
            "justify_content": null,
            "justify_items": null,
            "left": null,
            "margin": null,
            "max_height": null,
            "max_width": null,
            "min_height": null,
            "min_width": null,
            "object_fit": null,
            "object_position": null,
            "order": null,
            "overflow": null,
            "overflow_x": null,
            "overflow_y": null,
            "padding": null,
            "right": null,
            "top": null,
            "visibility": null,
            "width": null
          }
        },
        "27faaa6d5c1e46ff9814637d8e1e2038": {
          "model_module": "@jupyter-widgets/controls",
          "model_module_version": "1.5.0",
          "model_name": "DescriptionStyleModel",
          "state": {
            "_model_module": "@jupyter-widgets/controls",
            "_model_module_version": "1.5.0",
            "_model_name": "DescriptionStyleModel",
            "_view_count": null,
            "_view_module": "@jupyter-widgets/base",
            "_view_module_version": "1.2.0",
            "_view_name": "StyleView",
            "description_width": ""
          }
        },
        "33bf36b41d8548debcd2eb4f1ab69eb2": {
          "model_module": "@jupyter-widgets/controls",
          "model_module_version": "1.5.0",
          "model_name": "DescriptionStyleModel",
          "state": {
            "_model_module": "@jupyter-widgets/controls",
            "_model_module_version": "1.5.0",
            "_model_name": "DescriptionStyleModel",
            "_view_count": null,
            "_view_module": "@jupyter-widgets/base",
            "_view_module_version": "1.2.0",
            "_view_name": "StyleView",
            "description_width": ""
          }
        },
        "3409e791865f48aeb3ac8e36817a890e": {
          "model_module": "@jupyter-widgets/controls",
          "model_module_version": "1.5.0",
          "model_name": "HBoxModel",
          "state": {
            "_dom_classes": [],
            "_model_module": "@jupyter-widgets/controls",
            "_model_module_version": "1.5.0",
            "_model_name": "HBoxModel",
            "_view_count": null,
            "_view_module": "@jupyter-widgets/controls",
            "_view_module_version": "1.5.0",
            "_view_name": "HBoxView",
            "box_style": "",
            "children": [
              "IPY_MODEL_6181aae582974a08918ed81cc6c9d10e",
              "IPY_MODEL_5a4ec2f9468f425ab9c49fffeb757e77",
              "IPY_MODEL_69af263fc3c1412e93bf4fc6c2718d07"
            ],
            "layout": "IPY_MODEL_e150a95242bc4a4694ae4665a1245ddd"
          }
        },
        "35537d265cdf45209bf8921c8b1ba4a2": {
          "model_module": "@jupyter-widgets/controls",
          "model_module_version": "1.5.0",
          "model_name": "HTMLModel",
          "state": {
            "_dom_classes": [],
            "_model_module": "@jupyter-widgets/controls",
            "_model_module_version": "1.5.0",
            "_model_name": "HTMLModel",
            "_view_count": null,
            "_view_module": "@jupyter-widgets/controls",
            "_view_module_version": "1.5.0",
            "_view_name": "HTMLView",
            "description": "",
            "description_tooltip": null,
            "layout": "IPY_MODEL_57c949198f7e4d7787072dbaec429adf",
            "placeholder": "​",
            "style": "IPY_MODEL_6e11d441c843423697e4d9c7d6aad89f",
            "value": " 1.36M/1.36M [00:00&lt;00:00, 3.09MB/s]"
          }
        },
        "35ca3cd790f54264bd9da3e7305abe31": {
          "model_module": "@jupyter-widgets/base",
          "model_module_version": "1.2.0",
          "model_name": "LayoutModel",
          "state": {
            "_model_module": "@jupyter-widgets/base",
            "_model_module_version": "1.2.0",
            "_model_name": "LayoutModel",
            "_view_count": null,
            "_view_module": "@jupyter-widgets/base",
            "_view_module_version": "1.2.0",
            "_view_name": "LayoutView",
            "align_content": null,
            "align_items": null,
            "align_self": null,
            "border": null,
            "bottom": null,
            "display": null,
            "flex": null,
            "flex_flow": null,
            "grid_area": null,
            "grid_auto_columns": null,
            "grid_auto_flow": null,
            "grid_auto_rows": null,
            "grid_column": null,
            "grid_gap": null,
            "grid_row": null,
            "grid_template_areas": null,
            "grid_template_columns": null,
            "grid_template_rows": null,
            "height": null,
            "justify_content": null,
            "justify_items": null,
            "left": null,
            "margin": null,
            "max_height": null,
            "max_width": null,
            "min_height": null,
            "min_width": null,
            "object_fit": null,
            "object_position": null,
            "order": null,
            "overflow": null,
            "overflow_x": null,
            "overflow_y": null,
            "padding": null,
            "right": null,
            "top": null,
            "visibility": null,
            "width": null
          }
        },
        "36ae5a25935a4151a9be7a94a3095891": {
          "model_module": "@jupyter-widgets/base",
          "model_module_version": "1.2.0",
          "model_name": "LayoutModel",
          "state": {
            "_model_module": "@jupyter-widgets/base",
            "_model_module_version": "1.2.0",
            "_model_name": "LayoutModel",
            "_view_count": null,
            "_view_module": "@jupyter-widgets/base",
            "_view_module_version": "1.2.0",
            "_view_name": "LayoutView",
            "align_content": null,
            "align_items": null,
            "align_self": null,
            "border": null,
            "bottom": null,
            "display": null,
            "flex": null,
            "flex_flow": null,
            "grid_area": null,
            "grid_auto_columns": null,
            "grid_auto_flow": null,
            "grid_auto_rows": null,
            "grid_column": null,
            "grid_gap": null,
            "grid_row": null,
            "grid_template_areas": null,
            "grid_template_columns": null,
            "grid_template_rows": null,
            "height": null,
            "justify_content": null,
            "justify_items": null,
            "left": null,
            "margin": null,
            "max_height": null,
            "max_width": null,
            "min_height": null,
            "min_width": null,
            "object_fit": null,
            "object_position": null,
            "order": null,
            "overflow": null,
            "overflow_x": null,
            "overflow_y": null,
            "padding": null,
            "right": null,
            "top": null,
            "visibility": null,
            "width": null
          }
        },
        "390eac538a984534b7cfa09d28c7c114": {
          "model_module": "@jupyter-widgets/controls",
          "model_module_version": "1.5.0",
          "model_name": "FloatProgressModel",
          "state": {
            "_dom_classes": [],
            "_model_module": "@jupyter-widgets/controls",
            "_model_module_version": "1.5.0",
            "_model_name": "FloatProgressModel",
            "_view_count": null,
            "_view_module": "@jupyter-widgets/controls",
            "_view_module_version": "1.5.0",
            "_view_name": "ProgressView",
            "bar_style": "success",
            "description": "",
            "description_tooltip": null,
            "layout": "IPY_MODEL_bd93febaabbf4fa8b0c4fce8d6919840",
            "max": 1716,
            "min": 0,
            "orientation": "horizontal",
            "style": "IPY_MODEL_76ae0619bb1c481f99ee10636bb03493",
            "value": 1716
          }
        },
        "39d09d3f74d14ffb8fb18bb581d915c3": {
          "model_module": "@jupyter-widgets/controls",
          "model_module_version": "1.5.0",
          "model_name": "DescriptionStyleModel",
          "state": {
            "_model_module": "@jupyter-widgets/controls",
            "_model_module_version": "1.5.0",
            "_model_name": "DescriptionStyleModel",
            "_view_count": null,
            "_view_module": "@jupyter-widgets/base",
            "_view_module_version": "1.2.0",
            "_view_name": "StyleView",
            "description_width": ""
          }
        },
        "3bbe530f833f4123afc1404b572cfd07": {
          "model_module": "@jupyter-widgets/base",
          "model_module_version": "1.2.0",
          "model_name": "LayoutModel",
          "state": {
            "_model_module": "@jupyter-widgets/base",
            "_model_module_version": "1.2.0",
            "_model_name": "LayoutModel",
            "_view_count": null,
            "_view_module": "@jupyter-widgets/base",
            "_view_module_version": "1.2.0",
            "_view_name": "LayoutView",
            "align_content": null,
            "align_items": null,
            "align_self": null,
            "border": null,
            "bottom": null,
            "display": null,
            "flex": null,
            "flex_flow": null,
            "grid_area": null,
            "grid_auto_columns": null,
            "grid_auto_flow": null,
            "grid_auto_rows": null,
            "grid_column": null,
            "grid_gap": null,
            "grid_row": null,
            "grid_template_areas": null,
            "grid_template_columns": null,
            "grid_template_rows": null,
            "height": null,
            "justify_content": null,
            "justify_items": null,
            "left": null,
            "margin": null,
            "max_height": null,
            "max_width": null,
            "min_height": null,
            "min_width": null,
            "object_fit": null,
            "object_position": null,
            "order": null,
            "overflow": null,
            "overflow_x": null,
            "overflow_y": null,
            "padding": null,
            "right": null,
            "top": null,
            "visibility": null,
            "width": null
          }
        },
        "3d0ae0d27f7645128c32d30e52f1c889": {
          "model_module": "@jupyter-widgets/base",
          "model_module_version": "1.2.0",
          "model_name": "LayoutModel",
          "state": {
            "_model_module": "@jupyter-widgets/base",
            "_model_module_version": "1.2.0",
            "_model_name": "LayoutModel",
            "_view_count": null,
            "_view_module": "@jupyter-widgets/base",
            "_view_module_version": "1.2.0",
            "_view_name": "LayoutView",
            "align_content": null,
            "align_items": null,
            "align_self": null,
            "border": null,
            "bottom": null,
            "display": null,
            "flex": null,
            "flex_flow": null,
            "grid_area": null,
            "grid_auto_columns": null,
            "grid_auto_flow": null,
            "grid_auto_rows": null,
            "grid_column": null,
            "grid_gap": null,
            "grid_row": null,
            "grid_template_areas": null,
            "grid_template_columns": null,
            "grid_template_rows": null,
            "height": null,
            "justify_content": null,
            "justify_items": null,
            "left": null,
            "margin": null,
            "max_height": null,
            "max_width": null,
            "min_height": null,
            "min_width": null,
            "object_fit": null,
            "object_position": null,
            "order": null,
            "overflow": null,
            "overflow_x": null,
            "overflow_y": null,
            "padding": null,
            "right": null,
            "top": null,
            "visibility": null,
            "width": null
          }
        },
        "40f66c3d362140b692429b9a30001a17": {
          "model_module": "@jupyter-widgets/controls",
          "model_module_version": "1.5.0",
          "model_name": "DescriptionStyleModel",
          "state": {
            "_model_module": "@jupyter-widgets/controls",
            "_model_module_version": "1.5.0",
            "_model_name": "DescriptionStyleModel",
            "_view_count": null,
            "_view_module": "@jupyter-widgets/base",
            "_view_module_version": "1.2.0",
            "_view_name": "StyleView",
            "description_width": ""
          }
        },
        "4183adad43b047e6b00d6dff8b0d8b39": {
          "model_module": "@jupyter-widgets/controls",
          "model_module_version": "1.5.0",
          "model_name": "ProgressStyleModel",
          "state": {
            "_model_module": "@jupyter-widgets/controls",
            "_model_module_version": "1.5.0",
            "_model_name": "ProgressStyleModel",
            "_view_count": null,
            "_view_module": "@jupyter-widgets/base",
            "_view_module_version": "1.2.0",
            "_view_name": "StyleView",
            "bar_color": null,
            "description_width": ""
          }
        },
        "42829f916ed8485d8e61b349652f8736": {
          "model_module": "@jupyter-widgets/controls",
          "model_module_version": "1.5.0",
          "model_name": "ProgressStyleModel",
          "state": {
            "_model_module": "@jupyter-widgets/controls",
            "_model_module_version": "1.5.0",
            "_model_name": "ProgressStyleModel",
            "_view_count": null,
            "_view_module": "@jupyter-widgets/base",
            "_view_module_version": "1.2.0",
            "_view_name": "StyleView",
            "bar_color": null,
            "description_width": ""
          }
        },
        "46dcc79da11040fc91d1105fdf027e54": {
          "model_module": "@jupyter-widgets/controls",
          "model_module_version": "1.5.0",
          "model_name": "HTMLModel",
          "state": {
            "_dom_classes": [],
            "_model_module": "@jupyter-widgets/controls",
            "_model_module_version": "1.5.0",
            "_model_name": "HTMLModel",
            "_view_count": null,
            "_view_module": "@jupyter-widgets/controls",
            "_view_module_version": "1.5.0",
            "_view_name": "HTMLView",
            "description": "",
            "description_tooltip": null,
            "layout": "IPY_MODEL_771043a9ecef46f6a267dfffff30326f",
            "placeholder": "​",
            "style": "IPY_MODEL_39d09d3f74d14ffb8fb18bb581d915c3",
            "value": "config.json: 100%"
          }
        },
        "524359cd0e174c0dae14ee67489bf811": {
          "model_module": "@jupyter-widgets/base",
          "model_module_version": "1.2.0",
          "model_name": "LayoutModel",
          "state": {
            "_model_module": "@jupyter-widgets/base",
            "_model_module_version": "1.2.0",
            "_model_name": "LayoutModel",
            "_view_count": null,
            "_view_module": "@jupyter-widgets/base",
            "_view_module_version": "1.2.0",
            "_view_name": "LayoutView",
            "align_content": null,
            "align_items": null,
            "align_self": null,
            "border": null,
            "bottom": null,
            "display": null,
            "flex": null,
            "flex_flow": null,
            "grid_area": null,
            "grid_auto_columns": null,
            "grid_auto_flow": null,
            "grid_auto_rows": null,
            "grid_column": null,
            "grid_gap": null,
            "grid_row": null,
            "grid_template_areas": null,
            "grid_template_columns": null,
            "grid_template_rows": null,
            "height": null,
            "justify_content": null,
            "justify_items": null,
            "left": null,
            "margin": null,
            "max_height": null,
            "max_width": null,
            "min_height": null,
            "min_width": null,
            "object_fit": null,
            "object_position": null,
            "order": null,
            "overflow": null,
            "overflow_x": null,
            "overflow_y": null,
            "padding": null,
            "right": null,
            "top": null,
            "visibility": null,
            "width": null
          }
        },
        "52821f6d14a944b98aff91526103bea8": {
          "model_module": "@jupyter-widgets/controls",
          "model_module_version": "1.5.0",
          "model_name": "HTMLModel",
          "state": {
            "_dom_classes": [],
            "_model_module": "@jupyter-widgets/controls",
            "_model_module_version": "1.5.0",
            "_model_name": "HTMLModel",
            "_view_count": null,
            "_view_module": "@jupyter-widgets/controls",
            "_view_module_version": "1.5.0",
            "_view_name": "HTMLView",
            "description": "",
            "description_tooltip": null,
            "layout": "IPY_MODEL_6c47fa7833c940399e01f00e180b4328",
            "placeholder": "​",
            "style": "IPY_MODEL_da78e91f32db493a9fdd797d07918c6f",
            "value": " 456k/456k [00:00&lt;00:00, 40.4MB/s]"
          }
        },
        "5317cc732c0b4112a1241bc660f01913": {
          "model_module": "@jupyter-widgets/controls",
          "model_module_version": "1.5.0",
          "model_name": "DescriptionStyleModel",
          "state": {
            "_model_module": "@jupyter-widgets/controls",
            "_model_module_version": "1.5.0",
            "_model_name": "DescriptionStyleModel",
            "_view_count": null,
            "_view_module": "@jupyter-widgets/base",
            "_view_module_version": "1.2.0",
            "_view_name": "StyleView",
            "description_width": ""
          }
        },
        "551e62ae209647fb95398cf20d5f1e38": {
          "model_module": "@jupyter-widgets/base",
          "model_module_version": "1.2.0",
          "model_name": "LayoutModel",
          "state": {
            "_model_module": "@jupyter-widgets/base",
            "_model_module_version": "1.2.0",
            "_model_name": "LayoutModel",
            "_view_count": null,
            "_view_module": "@jupyter-widgets/base",
            "_view_module_version": "1.2.0",
            "_view_name": "LayoutView",
            "align_content": null,
            "align_items": null,
            "align_self": null,
            "border": null,
            "bottom": null,
            "display": null,
            "flex": null,
            "flex_flow": null,
            "grid_area": null,
            "grid_auto_columns": null,
            "grid_auto_flow": null,
            "grid_auto_rows": null,
            "grid_column": null,
            "grid_gap": null,
            "grid_row": null,
            "grid_template_areas": null,
            "grid_template_columns": null,
            "grid_template_rows": null,
            "height": null,
            "justify_content": null,
            "justify_items": null,
            "left": null,
            "margin": null,
            "max_height": null,
            "max_width": null,
            "min_height": null,
            "min_width": null,
            "object_fit": null,
            "object_position": null,
            "order": null,
            "overflow": null,
            "overflow_x": null,
            "overflow_y": null,
            "padding": null,
            "right": null,
            "top": null,
            "visibility": null,
            "width": null
          }
        },
        "57c949198f7e4d7787072dbaec429adf": {
          "model_module": "@jupyter-widgets/base",
          "model_module_version": "1.2.0",
          "model_name": "LayoutModel",
          "state": {
            "_model_module": "@jupyter-widgets/base",
            "_model_module_version": "1.2.0",
            "_model_name": "LayoutModel",
            "_view_count": null,
            "_view_module": "@jupyter-widgets/base",
            "_view_module_version": "1.2.0",
            "_view_name": "LayoutView",
            "align_content": null,
            "align_items": null,
            "align_self": null,
            "border": null,
            "bottom": null,
            "display": null,
            "flex": null,
            "flex_flow": null,
            "grid_area": null,
            "grid_auto_columns": null,
            "grid_auto_flow": null,
            "grid_auto_rows": null,
            "grid_column": null,
            "grid_gap": null,
            "grid_row": null,
            "grid_template_areas": null,
            "grid_template_columns": null,
            "grid_template_rows": null,
            "height": null,
            "justify_content": null,
            "justify_items": null,
            "left": null,
            "margin": null,
            "max_height": null,
            "max_width": null,
            "min_height": null,
            "min_width": null,
            "object_fit": null,
            "object_position": null,
            "order": null,
            "overflow": null,
            "overflow_x": null,
            "overflow_y": null,
            "padding": null,
            "right": null,
            "top": null,
            "visibility": null,
            "width": null
          }
        },
        "5a4ec2f9468f425ab9c49fffeb757e77": {
          "model_module": "@jupyter-widgets/controls",
          "model_module_version": "1.5.0",
          "model_name": "FloatProgressModel",
          "state": {
            "_dom_classes": [],
            "_model_module": "@jupyter-widgets/controls",
            "_model_module_version": "1.5.0",
            "_model_name": "FloatProgressModel",
            "_view_count": null,
            "_view_module": "@jupyter-widgets/controls",
            "_view_module_version": "1.5.0",
            "_view_name": "ProgressView",
            "bar_style": "success",
            "description": "",
            "description_tooltip": null,
            "layout": "IPY_MODEL_fac6caaccb76487b94f9bcc8f1280257",
            "max": 898823,
            "min": 0,
            "orientation": "horizontal",
            "style": "IPY_MODEL_6b81e303d4f741f884bd2c220c283ee5",
            "value": 898823
          }
        },
        "5bd4c9456cf441c3a082795ab8c86998": {
          "model_module": "@jupyter-widgets/base",
          "model_module_version": "1.2.0",
          "model_name": "LayoutModel",
          "state": {
            "_model_module": "@jupyter-widgets/base",
            "_model_module_version": "1.2.0",
            "_model_name": "LayoutModel",
            "_view_count": null,
            "_view_module": "@jupyter-widgets/base",
            "_view_module_version": "1.2.0",
            "_view_name": "LayoutView",
            "align_content": null,
            "align_items": null,
            "align_self": null,
            "border": null,
            "bottom": null,
            "display": null,
            "flex": null,
            "flex_flow": null,
            "grid_area": null,
            "grid_auto_columns": null,
            "grid_auto_flow": null,
            "grid_auto_rows": null,
            "grid_column": null,
            "grid_gap": null,
            "grid_row": null,
            "grid_template_areas": null,
            "grid_template_columns": null,
            "grid_template_rows": null,
            "height": null,
            "justify_content": null,
            "justify_items": null,
            "left": null,
            "margin": null,
            "max_height": null,
            "max_width": null,
            "min_height": null,
            "min_width": null,
            "object_fit": null,
            "object_position": null,
            "order": null,
            "overflow": null,
            "overflow_x": null,
            "overflow_y": null,
            "padding": null,
            "right": null,
            "top": null,
            "visibility": null,
            "width": null
          }
        },
        "5d69e695a5b94588aa61d8949c6ffab4": {
          "model_module": "@jupyter-widgets/base",
          "model_module_version": "1.2.0",
          "model_name": "LayoutModel",
          "state": {
            "_model_module": "@jupyter-widgets/base",
            "_model_module_version": "1.2.0",
            "_model_name": "LayoutModel",
            "_view_count": null,
            "_view_module": "@jupyter-widgets/base",
            "_view_module_version": "1.2.0",
            "_view_name": "LayoutView",
            "align_content": null,
            "align_items": null,
            "align_self": null,
            "border": null,
            "bottom": null,
            "display": null,
            "flex": null,
            "flex_flow": null,
            "grid_area": null,
            "grid_auto_columns": null,
            "grid_auto_flow": null,
            "grid_auto_rows": null,
            "grid_column": null,
            "grid_gap": null,
            "grid_row": null,
            "grid_template_areas": null,
            "grid_template_columns": null,
            "grid_template_rows": null,
            "height": null,
            "justify_content": null,
            "justify_items": null,
            "left": null,
            "margin": null,
            "max_height": null,
            "max_width": null,
            "min_height": null,
            "min_width": null,
            "object_fit": null,
            "object_position": null,
            "order": null,
            "overflow": null,
            "overflow_x": null,
            "overflow_y": null,
            "padding": null,
            "right": null,
            "top": null,
            "visibility": null,
            "width": null
          }
        },
        "5f1141f780524bb99531a594c9f1f50c": {
          "model_module": "@jupyter-widgets/base",
          "model_module_version": "1.2.0",
          "model_name": "LayoutModel",
          "state": {
            "_model_module": "@jupyter-widgets/base",
            "_model_module_version": "1.2.0",
            "_model_name": "LayoutModel",
            "_view_count": null,
            "_view_module": "@jupyter-widgets/base",
            "_view_module_version": "1.2.0",
            "_view_name": "LayoutView",
            "align_content": null,
            "align_items": null,
            "align_self": null,
            "border": null,
            "bottom": null,
            "display": null,
            "flex": null,
            "flex_flow": null,
            "grid_area": null,
            "grid_auto_columns": null,
            "grid_auto_flow": null,
            "grid_auto_rows": null,
            "grid_column": null,
            "grid_gap": null,
            "grid_row": null,
            "grid_template_areas": null,
            "grid_template_columns": null,
            "grid_template_rows": null,
            "height": null,
            "justify_content": null,
            "justify_items": null,
            "left": null,
            "margin": null,
            "max_height": null,
            "max_width": null,
            "min_height": null,
            "min_width": null,
            "object_fit": null,
            "object_position": null,
            "order": null,
            "overflow": null,
            "overflow_x": null,
            "overflow_y": null,
            "padding": null,
            "right": null,
            "top": null,
            "visibility": null,
            "width": null
          }
        },
        "602cd7bfeb18469f8fa008b01ba27353": {
          "model_module": "@jupyter-widgets/base",
          "model_module_version": "1.2.0",
          "model_name": "LayoutModel",
          "state": {
            "_model_module": "@jupyter-widgets/base",
            "_model_module_version": "1.2.0",
            "_model_name": "LayoutModel",
            "_view_count": null,
            "_view_module": "@jupyter-widgets/base",
            "_view_module_version": "1.2.0",
            "_view_name": "LayoutView",
            "align_content": null,
            "align_items": null,
            "align_self": null,
            "border": null,
            "bottom": null,
            "display": null,
            "flex": null,
            "flex_flow": null,
            "grid_area": null,
            "grid_auto_columns": null,
            "grid_auto_flow": null,
            "grid_auto_rows": null,
            "grid_column": null,
            "grid_gap": null,
            "grid_row": null,
            "grid_template_areas": null,
            "grid_template_columns": null,
            "grid_template_rows": null,
            "height": null,
            "justify_content": null,
            "justify_items": null,
            "left": null,
            "margin": null,
            "max_height": null,
            "max_width": null,
            "min_height": null,
            "min_width": null,
            "object_fit": null,
            "object_position": null,
            "order": null,
            "overflow": null,
            "overflow_x": null,
            "overflow_y": null,
            "padding": null,
            "right": null,
            "top": null,
            "visibility": null,
            "width": null
          }
        },
        "603b60eabb434476a30261e1c8e5de20": {
          "model_module": "@jupyter-widgets/base",
          "model_module_version": "1.2.0",
          "model_name": "LayoutModel",
          "state": {
            "_model_module": "@jupyter-widgets/base",
            "_model_module_version": "1.2.0",
            "_model_name": "LayoutModel",
            "_view_count": null,
            "_view_module": "@jupyter-widgets/base",
            "_view_module_version": "1.2.0",
            "_view_name": "LayoutView",
            "align_content": null,
            "align_items": null,
            "align_self": null,
            "border": null,
            "bottom": null,
            "display": null,
            "flex": null,
            "flex_flow": null,
            "grid_area": null,
            "grid_auto_columns": null,
            "grid_auto_flow": null,
            "grid_auto_rows": null,
            "grid_column": null,
            "grid_gap": null,
            "grid_row": null,
            "grid_template_areas": null,
            "grid_template_columns": null,
            "grid_template_rows": null,
            "height": null,
            "justify_content": null,
            "justify_items": null,
            "left": null,
            "margin": null,
            "max_height": null,
            "max_width": null,
            "min_height": null,
            "min_width": null,
            "object_fit": null,
            "object_position": null,
            "order": null,
            "overflow": null,
            "overflow_x": null,
            "overflow_y": null,
            "padding": null,
            "right": null,
            "top": null,
            "visibility": null,
            "width": null
          }
        },
        "610aca85526a4f8b97f316f5607cd1c6": {
          "model_module": "@jupyter-widgets/controls",
          "model_module_version": "1.5.0",
          "model_name": "HBoxModel",
          "state": {
            "_dom_classes": [],
            "_model_module": "@jupyter-widgets/controls",
            "_model_module_version": "1.5.0",
            "_model_name": "HBoxModel",
            "_view_count": null,
            "_view_module": "@jupyter-widgets/controls",
            "_view_module_version": "1.5.0",
            "_view_name": "HBoxView",
            "box_style": "",
            "children": [
              "IPY_MODEL_d7b046fe20774ecfa6b19a623c6bacfe",
              "IPY_MODEL_7b3246ba4a7240e3be98dace2c2dc6e5",
              "IPY_MODEL_8f69ff0a4ca44579a1fbb4a3480580f8"
            ],
            "layout": "IPY_MODEL_0154e42dbdbe462487d4957ce797b3e5"
          }
        },
        "6181aae582974a08918ed81cc6c9d10e": {
          "model_module": "@jupyter-widgets/controls",
          "model_module_version": "1.5.0",
          "model_name": "HTMLModel",
          "state": {
            "_dom_classes": [],
            "_model_module": "@jupyter-widgets/controls",
            "_model_module_version": "1.5.0",
            "_model_name": "HTMLModel",
            "_view_count": null,
            "_view_module": "@jupyter-widgets/controls",
            "_view_module_version": "1.5.0",
            "_view_name": "HTMLView",
            "description": "",
            "description_tooltip": null,
            "layout": "IPY_MODEL_c15e281123fc49ffaec407a2f3c7c3f7",
            "placeholder": "​",
            "style": "IPY_MODEL_b062d36949af4c5fa19d730ae4b0891b",
            "value": "vocab.json: 100%"
          }
        },
        "62b616af593e47c88bba9d3298ac143b": {
          "model_module": "@jupyter-widgets/controls",
          "model_module_version": "1.5.0",
          "model_name": "DescriptionStyleModel",
          "state": {
            "_model_module": "@jupyter-widgets/controls",
            "_model_module_version": "1.5.0",
            "_model_name": "DescriptionStyleModel",
            "_view_count": null,
            "_view_module": "@jupyter-widgets/base",
            "_view_module_version": "1.2.0",
            "_view_name": "StyleView",
            "description_width": ""
          }
        },
        "633a0bb16cda4432817f83d3096dfcad": {
          "model_module": "@jupyter-widgets/controls",
          "model_module_version": "1.5.0",
          "model_name": "HBoxModel",
          "state": {
            "_dom_classes": [],
            "_model_module": "@jupyter-widgets/controls",
            "_model_module_version": "1.5.0",
            "_model_name": "HBoxModel",
            "_view_count": null,
            "_view_module": "@jupyter-widgets/controls",
            "_view_module_version": "1.5.0",
            "_view_name": "HBoxView",
            "box_style": "",
            "children": [
              "IPY_MODEL_b425e0b5d2724557b7526f4b37561ee1",
              "IPY_MODEL_21fba4a36a30443889fbedc104f110df",
              "IPY_MODEL_52821f6d14a944b98aff91526103bea8"
            ],
            "layout": "IPY_MODEL_3bbe530f833f4123afc1404b572cfd07"
          }
        },
        "6447a8041ca94a9687f7acb1459e8547": {
          "model_module": "@jupyter-widgets/controls",
          "model_module_version": "1.5.0",
          "model_name": "HTMLModel",
          "state": {
            "_dom_classes": [],
            "_model_module": "@jupyter-widgets/controls",
            "_model_module_version": "1.5.0",
            "_model_name": "HTMLModel",
            "_view_count": null,
            "_view_module": "@jupyter-widgets/controls",
            "_view_module_version": "1.5.0",
            "_view_name": "HTMLView",
            "description": "",
            "description_tooltip": null,
            "layout": "IPY_MODEL_5d69e695a5b94588aa61d8949c6ffab4",
            "placeholder": "​",
            "style": "IPY_MODEL_c4fef5580f6844adbd1444798392a968",
            "value": " 25.0/25.0 [00:00&lt;00:00, 1.81kB/s]"
          }
        },
        "68a2dfe34a514fd7814589bf26f08348": {
          "model_module": "@jupyter-widgets/base",
          "model_module_version": "1.2.0",
          "model_name": "LayoutModel",
          "state": {
            "_model_module": "@jupyter-widgets/base",
            "_model_module_version": "1.2.0",
            "_model_name": "LayoutModel",
            "_view_count": null,
            "_view_module": "@jupyter-widgets/base",
            "_view_module_version": "1.2.0",
            "_view_name": "LayoutView",
            "align_content": null,
            "align_items": null,
            "align_self": null,
            "border": null,
            "bottom": null,
            "display": null,
            "flex": null,
            "flex_flow": null,
            "grid_area": null,
            "grid_auto_columns": null,
            "grid_auto_flow": null,
            "grid_auto_rows": null,
            "grid_column": null,
            "grid_gap": null,
            "grid_row": null,
            "grid_template_areas": null,
            "grid_template_columns": null,
            "grid_template_rows": null,
            "height": null,
            "justify_content": null,
            "justify_items": null,
            "left": null,
            "margin": null,
            "max_height": null,
            "max_width": null,
            "min_height": null,
            "min_width": null,
            "object_fit": null,
            "object_position": null,
            "order": null,
            "overflow": null,
            "overflow_x": null,
            "overflow_y": null,
            "padding": null,
            "right": null,
            "top": null,
            "visibility": null,
            "width": null
          }
        },
        "69af263fc3c1412e93bf4fc6c2718d07": {
          "model_module": "@jupyter-widgets/controls",
          "model_module_version": "1.5.0",
          "model_name": "HTMLModel",
          "state": {
            "_dom_classes": [],
            "_model_module": "@jupyter-widgets/controls",
            "_model_module_version": "1.5.0",
            "_model_name": "HTMLModel",
            "_view_count": null,
            "_view_module": "@jupyter-widgets/controls",
            "_view_module_version": "1.5.0",
            "_view_name": "HTMLView",
            "description": "",
            "description_tooltip": null,
            "layout": "IPY_MODEL_bf599b97c3f34aa3ba01446f430ae188",
            "placeholder": "​",
            "style": "IPY_MODEL_1e567b58ed754797a6ee337cd6e833db",
            "value": " 899k/899k [00:00&lt;00:00, 1.41MB/s]"
          }
        },
        "6b81e303d4f741f884bd2c220c283ee5": {
          "model_module": "@jupyter-widgets/controls",
          "model_module_version": "1.5.0",
          "model_name": "ProgressStyleModel",
          "state": {
            "_model_module": "@jupyter-widgets/controls",
            "_model_module_version": "1.5.0",
            "_model_name": "ProgressStyleModel",
            "_view_count": null,
            "_view_module": "@jupyter-widgets/base",
            "_view_module_version": "1.2.0",
            "_view_name": "StyleView",
            "bar_color": null,
            "description_width": ""
          }
        },
        "6bcfb4967a284bffadf3c40ff7a92044": {
          "model_module": "@jupyter-widgets/controls",
          "model_module_version": "1.5.0",
          "model_name": "DescriptionStyleModel",
          "state": {
            "_model_module": "@jupyter-widgets/controls",
            "_model_module_version": "1.5.0",
            "_model_name": "DescriptionStyleModel",
            "_view_count": null,
            "_view_module": "@jupyter-widgets/base",
            "_view_module_version": "1.2.0",
            "_view_name": "StyleView",
            "description_width": ""
          }
        },
        "6c47fa7833c940399e01f00e180b4328": {
          "model_module": "@jupyter-widgets/base",
          "model_module_version": "1.2.0",
          "model_name": "LayoutModel",
          "state": {
            "_model_module": "@jupyter-widgets/base",
            "_model_module_version": "1.2.0",
            "_model_name": "LayoutModel",
            "_view_count": null,
            "_view_module": "@jupyter-widgets/base",
            "_view_module_version": "1.2.0",
            "_view_name": "LayoutView",
            "align_content": null,
            "align_items": null,
            "align_self": null,
            "border": null,
            "bottom": null,
            "display": null,
            "flex": null,
            "flex_flow": null,
            "grid_area": null,
            "grid_auto_columns": null,
            "grid_auto_flow": null,
            "grid_auto_rows": null,
            "grid_column": null,
            "grid_gap": null,
            "grid_row": null,
            "grid_template_areas": null,
            "grid_template_columns": null,
            "grid_template_rows": null,
            "height": null,
            "justify_content": null,
            "justify_items": null,
            "left": null,
            "margin": null,
            "max_height": null,
            "max_width": null,
            "min_height": null,
            "min_width": null,
            "object_fit": null,
            "object_position": null,
            "order": null,
            "overflow": null,
            "overflow_x": null,
            "overflow_y": null,
            "padding": null,
            "right": null,
            "top": null,
            "visibility": null,
            "width": null
          }
        },
        "6e11d441c843423697e4d9c7d6aad89f": {
          "model_module": "@jupyter-widgets/controls",
          "model_module_version": "1.5.0",
          "model_name": "DescriptionStyleModel",
          "state": {
            "_model_module": "@jupyter-widgets/controls",
            "_model_module_version": "1.5.0",
            "_model_name": "DescriptionStyleModel",
            "_view_count": null,
            "_view_module": "@jupyter-widgets/base",
            "_view_module_version": "1.2.0",
            "_view_name": "StyleView",
            "description_width": ""
          }
        },
        "7042a9da27924023a9a055973b2617d3": {
          "model_module": "@jupyter-widgets/controls",
          "model_module_version": "1.5.0",
          "model_name": "HTMLModel",
          "state": {
            "_dom_classes": [],
            "_model_module": "@jupyter-widgets/controls",
            "_model_module_version": "1.5.0",
            "_model_name": "HTMLModel",
            "_view_count": null,
            "_view_module": "@jupyter-widgets/controls",
            "_view_module_version": "1.5.0",
            "_view_name": "HTMLView",
            "description": "",
            "description_tooltip": null,
            "layout": "IPY_MODEL_0a3924dfb3d049c4930bcf961181c4ae",
            "placeholder": "​",
            "style": "IPY_MODEL_fa82f61cde024cda8e0097698af83ed8",
            "value": "tokenizer_config.json: 100%"
          }
        },
        "76348464b5cb4fdf83dc841b4cd8a4b4": {
          "model_module": "@jupyter-widgets/controls",
          "model_module_version": "1.5.0",
          "model_name": "HTMLModel",
          "state": {
            "_dom_classes": [],
            "_model_module": "@jupyter-widgets/controls",
            "_model_module_version": "1.5.0",
            "_model_name": "HTMLModel",
            "_view_count": null,
            "_view_module": "@jupyter-widgets/controls",
            "_view_module_version": "1.5.0",
            "_view_name": "HTMLView",
            "description": "",
            "description_tooltip": null,
            "layout": "IPY_MODEL_9f288bc415044f4a81d84b88742be54b",
            "placeholder": "​",
            "style": "IPY_MODEL_27faaa6d5c1e46ff9814637d8e1e2038",
            "value": "tokenizer.json: 100%"
          }
        },
        "76ae0619bb1c481f99ee10636bb03493": {
          "model_module": "@jupyter-widgets/controls",
          "model_module_version": "1.5.0",
          "model_name": "ProgressStyleModel",
          "state": {
            "_model_module": "@jupyter-widgets/controls",
            "_model_module_version": "1.5.0",
            "_model_name": "ProgressStyleModel",
            "_view_count": null,
            "_view_module": "@jupyter-widgets/base",
            "_view_module_version": "1.2.0",
            "_view_name": "StyleView",
            "bar_color": null,
            "description_width": ""
          }
        },
        "771043a9ecef46f6a267dfffff30326f": {
          "model_module": "@jupyter-widgets/base",
          "model_module_version": "1.2.0",
          "model_name": "LayoutModel",
          "state": {
            "_model_module": "@jupyter-widgets/base",
            "_model_module_version": "1.2.0",
            "_model_name": "LayoutModel",
            "_view_count": null,
            "_view_module": "@jupyter-widgets/base",
            "_view_module_version": "1.2.0",
            "_view_name": "LayoutView",
            "align_content": null,
            "align_items": null,
            "align_self": null,
            "border": null,
            "bottom": null,
            "display": null,
            "flex": null,
            "flex_flow": null,
            "grid_area": null,
            "grid_auto_columns": null,
            "grid_auto_flow": null,
            "grid_auto_rows": null,
            "grid_column": null,
            "grid_gap": null,
            "grid_row": null,
            "grid_template_areas": null,
            "grid_template_columns": null,
            "grid_template_rows": null,
            "height": null,
            "justify_content": null,
            "justify_items": null,
            "left": null,
            "margin": null,
            "max_height": null,
            "max_width": null,
            "min_height": null,
            "min_width": null,
            "object_fit": null,
            "object_position": null,
            "order": null,
            "overflow": null,
            "overflow_x": null,
            "overflow_y": null,
            "padding": null,
            "right": null,
            "top": null,
            "visibility": null,
            "width": null
          }
        },
        "7a088f82e78240b7a1b5d5f0e0ac740c": {
          "model_module": "@jupyter-widgets/controls",
          "model_module_version": "1.5.0",
          "model_name": "DescriptionStyleModel",
          "state": {
            "_model_module": "@jupyter-widgets/controls",
            "_model_module_version": "1.5.0",
            "_model_name": "DescriptionStyleModel",
            "_view_count": null,
            "_view_module": "@jupyter-widgets/base",
            "_view_module_version": "1.2.0",
            "_view_name": "StyleView",
            "description_width": ""
          }
        },
        "7b3246ba4a7240e3be98dace2c2dc6e5": {
          "model_module": "@jupyter-widgets/controls",
          "model_module_version": "1.5.0",
          "model_name": "FloatProgressModel",
          "state": {
            "_dom_classes": [],
            "_model_module": "@jupyter-widgets/controls",
            "_model_module_version": "1.5.0",
            "_model_name": "FloatProgressModel",
            "_view_count": null,
            "_view_module": "@jupyter-widgets/controls",
            "_view_module_version": "1.5.0",
            "_view_name": "ProgressView",
            "bar_style": "success",
            "description": "",
            "description_tooltip": null,
            "layout": "IPY_MODEL_c2421e1e1cd94ff598e3ab9b7d88aca5",
            "max": 898823,
            "min": 0,
            "orientation": "horizontal",
            "style": "IPY_MODEL_acabd3bfa81349418ac7849ce8630ba6",
            "value": 898823
          }
        },
        "7b409e513904452b905de9d5ce18d88e": {
          "model_module": "@jupyter-widgets/base",
          "model_module_version": "1.2.0",
          "model_name": "LayoutModel",
          "state": {
            "_model_module": "@jupyter-widgets/base",
            "_model_module_version": "1.2.0",
            "_model_name": "LayoutModel",
            "_view_count": null,
            "_view_module": "@jupyter-widgets/base",
            "_view_module_version": "1.2.0",
            "_view_name": "LayoutView",
            "align_content": null,
            "align_items": null,
            "align_self": null,
            "border": null,
            "bottom": null,
            "display": null,
            "flex": null,
            "flex_flow": null,
            "grid_area": null,
            "grid_auto_columns": null,
            "grid_auto_flow": null,
            "grid_auto_rows": null,
            "grid_column": null,
            "grid_gap": null,
            "grid_row": null,
            "grid_template_areas": null,
            "grid_template_columns": null,
            "grid_template_rows": null,
            "height": null,
            "justify_content": null,
            "justify_items": null,
            "left": null,
            "margin": null,
            "max_height": null,
            "max_width": null,
            "min_height": null,
            "min_width": null,
            "object_fit": null,
            "object_position": null,
            "order": null,
            "overflow": null,
            "overflow_x": null,
            "overflow_y": null,
            "padding": null,
            "right": null,
            "top": null,
            "visibility": null,
            "width": null
          }
        },
        "7baaaf0d25944d75adea471f30cf5f15": {
          "model_module": "@jupyter-widgets/controls",
          "model_module_version": "1.5.0",
          "model_name": "FloatProgressModel",
          "state": {
            "_dom_classes": [],
            "_model_module": "@jupyter-widgets/controls",
            "_model_module_version": "1.5.0",
            "_model_name": "FloatProgressModel",
            "_view_count": null,
            "_view_module": "@jupyter-widgets/controls",
            "_view_module_version": "1.5.0",
            "_view_name": "ProgressView",
            "bar_style": "success",
            "description": "",
            "description_tooltip": null,
            "layout": "IPY_MODEL_9378067af405422e8d60063cc1961d19",
            "max": 557709915,
            "min": 0,
            "orientation": "horizontal",
            "style": "IPY_MODEL_4183adad43b047e6b00d6dff8b0d8b39",
            "value": 557709915
          }
        },
        "811f7761cab04a34937b228dfa68a8e6": {
          "model_module": "@jupyter-widgets/controls",
          "model_module_version": "1.5.0",
          "model_name": "FloatProgressModel",
          "state": {
            "_dom_classes": [],
            "_model_module": "@jupyter-widgets/controls",
            "_model_module_version": "1.5.0",
            "_model_name": "FloatProgressModel",
            "_view_count": null,
            "_view_module": "@jupyter-widgets/controls",
            "_view_module_version": "1.5.0",
            "_view_name": "ProgressView",
            "bar_style": "success",
            "description": "",
            "description_tooltip": null,
            "layout": "IPY_MODEL_cb4cc571c45c4482b1cc92d2d2c46e18",
            "max": 456318,
            "min": 0,
            "orientation": "horizontal",
            "style": "IPY_MODEL_196091b3f15548289e11c22710b526b9",
            "value": 456318
          }
        },
        "8126c296c1024d38aa09490e865fe716": {
          "model_module": "@jupyter-widgets/controls",
          "model_module_version": "1.5.0",
          "model_name": "DescriptionStyleModel",
          "state": {
            "_model_module": "@jupyter-widgets/controls",
            "_model_module_version": "1.5.0",
            "_model_name": "DescriptionStyleModel",
            "_view_count": null,
            "_view_module": "@jupyter-widgets/base",
            "_view_module_version": "1.2.0",
            "_view_name": "StyleView",
            "description_width": ""
          }
        },
        "82ebd639f3da450e839ea38d659f84c1": {
          "model_module": "@jupyter-widgets/controls",
          "model_module_version": "1.5.0",
          "model_name": "HTMLModel",
          "state": {
            "_dom_classes": [],
            "_model_module": "@jupyter-widgets/controls",
            "_model_module_version": "1.5.0",
            "_model_name": "HTMLModel",
            "_view_count": null,
            "_view_module": "@jupyter-widgets/controls",
            "_view_module_version": "1.5.0",
            "_view_name": "HTMLView",
            "description": "",
            "description_tooltip": null,
            "layout": "IPY_MODEL_067aea41614f435fb1dbc97ee271e98b",
            "placeholder": "​",
            "style": "IPY_MODEL_d24831a8ae61415daf76bd7c59e8ee69",
            "value": "merges.txt: 100%"
          }
        },
        "84dacc336ddc43d6b05b01bbf2f50bd3": {
          "model_module": "@jupyter-widgets/controls",
          "model_module_version": "1.5.0",
          "model_name": "HTMLModel",
          "state": {
            "_dom_classes": [],
            "_model_module": "@jupyter-widgets/controls",
            "_model_module_version": "1.5.0",
            "_model_name": "HTMLModel",
            "_view_count": null,
            "_view_module": "@jupyter-widgets/controls",
            "_view_module_version": "1.5.0",
            "_view_name": "HTMLView",
            "description": "",
            "description_tooltip": null,
            "layout": "IPY_MODEL_3d0ae0d27f7645128c32d30e52f1c889",
            "placeholder": "​",
            "style": "IPY_MODEL_7a088f82e78240b7a1b5d5f0e0ac740c",
            "value": " 1.36M/1.36M [00:00&lt;00:00, 6.32MB/s]"
          }
        },
        "854841aa3ef548168600bf7f751bdfa5": {
          "model_module": "@jupyter-widgets/controls",
          "model_module_version": "1.5.0",
          "model_name": "ProgressStyleModel",
          "state": {
            "_model_module": "@jupyter-widgets/controls",
            "_model_module_version": "1.5.0",
            "_model_name": "ProgressStyleModel",
            "_view_count": null,
            "_view_module": "@jupyter-widgets/base",
            "_view_module_version": "1.2.0",
            "_view_name": "StyleView",
            "bar_color": null,
            "description_width": ""
          }
        },
        "8825bf09d150403588c0802408bc6f73": {
          "model_module": "@jupyter-widgets/base",
          "model_module_version": "1.2.0",
          "model_name": "LayoutModel",
          "state": {
            "_model_module": "@jupyter-widgets/base",
            "_model_module_version": "1.2.0",
            "_model_name": "LayoutModel",
            "_view_count": null,
            "_view_module": "@jupyter-widgets/base",
            "_view_module_version": "1.2.0",
            "_view_name": "LayoutView",
            "align_content": null,
            "align_items": null,
            "align_self": null,
            "border": null,
            "bottom": null,
            "display": null,
            "flex": null,
            "flex_flow": null,
            "grid_area": null,
            "grid_auto_columns": null,
            "grid_auto_flow": null,
            "grid_auto_rows": null,
            "grid_column": null,
            "grid_gap": null,
            "grid_row": null,
            "grid_template_areas": null,
            "grid_template_columns": null,
            "grid_template_rows": null,
            "height": null,
            "justify_content": null,
            "justify_items": null,
            "left": null,
            "margin": null,
            "max_height": null,
            "max_width": null,
            "min_height": null,
            "min_width": null,
            "object_fit": null,
            "object_position": null,
            "order": null,
            "overflow": null,
            "overflow_x": null,
            "overflow_y": null,
            "padding": null,
            "right": null,
            "top": null,
            "visibility": null,
            "width": null
          }
        },
        "88a1778c9fae44f399f225d062224b61": {
          "model_module": "@jupyter-widgets/controls",
          "model_module_version": "1.5.0",
          "model_name": "HTMLModel",
          "state": {
            "_dom_classes": [],
            "_model_module": "@jupyter-widgets/controls",
            "_model_module_version": "1.5.0",
            "_model_name": "HTMLModel",
            "_view_count": null,
            "_view_module": "@jupyter-widgets/controls",
            "_view_module_version": "1.5.0",
            "_view_name": "HTMLView",
            "description": "",
            "description_tooltip": null,
            "layout": "IPY_MODEL_8ece74b2b81f465d95e1e4a39098e755",
            "placeholder": "​",
            "style": "IPY_MODEL_02f1331cba6841968649576b58db82ee",
            "value": "model.safetensors: 100%"
          }
        },
        "8ece74b2b81f465d95e1e4a39098e755": {
          "model_module": "@jupyter-widgets/base",
          "model_module_version": "1.2.0",
          "model_name": "LayoutModel",
          "state": {
            "_model_module": "@jupyter-widgets/base",
            "_model_module_version": "1.2.0",
            "_model_name": "LayoutModel",
            "_view_count": null,
            "_view_module": "@jupyter-widgets/base",
            "_view_module_version": "1.2.0",
            "_view_name": "LayoutView",
            "align_content": null,
            "align_items": null,
            "align_self": null,
            "border": null,
            "bottom": null,
            "display": null,
            "flex": null,
            "flex_flow": null,
            "grid_area": null,
            "grid_auto_columns": null,
            "grid_auto_flow": null,
            "grid_auto_rows": null,
            "grid_column": null,
            "grid_gap": null,
            "grid_row": null,
            "grid_template_areas": null,
            "grid_template_columns": null,
            "grid_template_rows": null,
            "height": null,
            "justify_content": null,
            "justify_items": null,
            "left": null,
            "margin": null,
            "max_height": null,
            "max_width": null,
            "min_height": null,
            "min_width": null,
            "object_fit": null,
            "object_position": null,
            "order": null,
            "overflow": null,
            "overflow_x": null,
            "overflow_y": null,
            "padding": null,
            "right": null,
            "top": null,
            "visibility": null,
            "width": null
          }
        },
        "8f169a0738ff434aa134b88010bc0aa2": {
          "model_module": "@jupyter-widgets/controls",
          "model_module_version": "1.5.0",
          "model_name": "HTMLModel",
          "state": {
            "_dom_classes": [],
            "_model_module": "@jupyter-widgets/controls",
            "_model_module_version": "1.5.0",
            "_model_name": "HTMLModel",
            "_view_count": null,
            "_view_module": "@jupyter-widgets/controls",
            "_view_module_version": "1.5.0",
            "_view_name": "HTMLView",
            "description": "",
            "description_tooltip": null,
            "layout": "IPY_MODEL_97fbe23c076f45a7943b9a3124e54ed4",
            "placeholder": "​",
            "style": "IPY_MODEL_5317cc732c0b4112a1241bc660f01913",
            "value": "model.safetensors: 100%"
          }
        },
        "8f69ff0a4ca44579a1fbb4a3480580f8": {
          "model_module": "@jupyter-widgets/controls",
          "model_module_version": "1.5.0",
          "model_name": "HTMLModel",
          "state": {
            "_dom_classes": [],
            "_model_module": "@jupyter-widgets/controls",
            "_model_module_version": "1.5.0",
            "_model_name": "HTMLModel",
            "_view_count": null,
            "_view_module": "@jupyter-widgets/controls",
            "_view_module_version": "1.5.0",
            "_view_name": "HTMLView",
            "description": "",
            "description_tooltip": null,
            "layout": "IPY_MODEL_ff54963796e046b08291a946c31f5609",
            "placeholder": "​",
            "style": "IPY_MODEL_fe4f5516112944d8ae35e93fc5c99a4c",
            "value": " 899k/899k [00:00&lt;00:00, 2.12MB/s]"
          }
        },
        "8f9f832909e84cc8956fcad189c6aef6": {
          "model_module": "@jupyter-widgets/base",
          "model_module_version": "1.2.0",
          "model_name": "LayoutModel",
          "state": {
            "_model_module": "@jupyter-widgets/base",
            "_model_module_version": "1.2.0",
            "_model_name": "LayoutModel",
            "_view_count": null,
            "_view_module": "@jupyter-widgets/base",
            "_view_module_version": "1.2.0",
            "_view_name": "LayoutView",
            "align_content": null,
            "align_items": null,
            "align_self": null,
            "border": null,
            "bottom": null,
            "display": null,
            "flex": null,
            "flex_flow": null,
            "grid_area": null,
            "grid_auto_columns": null,
            "grid_auto_flow": null,
            "grid_auto_rows": null,
            "grid_column": null,
            "grid_gap": null,
            "grid_row": null,
            "grid_template_areas": null,
            "grid_template_columns": null,
            "grid_template_rows": null,
            "height": null,
            "justify_content": null,
            "justify_items": null,
            "left": null,
            "margin": null,
            "max_height": null,
            "max_width": null,
            "min_height": null,
            "min_width": null,
            "object_fit": null,
            "object_position": null,
            "order": null,
            "overflow": null,
            "overflow_x": null,
            "overflow_y": null,
            "padding": null,
            "right": null,
            "top": null,
            "visibility": null,
            "width": null
          }
        },
        "92fd3ade40234558ae8f9c09ba29171a": {
          "model_module": "@jupyter-widgets/controls",
          "model_module_version": "1.5.0",
          "model_name": "HBoxModel",
          "state": {
            "_dom_classes": [],
            "_model_module": "@jupyter-widgets/controls",
            "_model_module_version": "1.5.0",
            "_model_name": "HBoxModel",
            "_view_count": null,
            "_view_module": "@jupyter-widgets/controls",
            "_view_module_version": "1.5.0",
            "_view_name": "HBoxView",
            "box_style": "",
            "children": [
              "IPY_MODEL_c4e3ddbd48124f6ca4260b0fee4581fc",
              "IPY_MODEL_390eac538a984534b7cfa09d28c7c114",
              "IPY_MODEL_de376d443fc44a3d9e76f722c4715cbd"
            ],
            "layout": "IPY_MODEL_524359cd0e174c0dae14ee67489bf811"
          }
        },
        "9378067af405422e8d60063cc1961d19": {
          "model_module": "@jupyter-widgets/base",
          "model_module_version": "1.2.0",
          "model_name": "LayoutModel",
          "state": {
            "_model_module": "@jupyter-widgets/base",
            "_model_module_version": "1.2.0",
            "_model_name": "LayoutModel",
            "_view_count": null,
            "_view_module": "@jupyter-widgets/base",
            "_view_module_version": "1.2.0",
            "_view_name": "LayoutView",
            "align_content": null,
            "align_items": null,
            "align_self": null,
            "border": null,
            "bottom": null,
            "display": null,
            "flex": null,
            "flex_flow": null,
            "grid_area": null,
            "grid_auto_columns": null,
            "grid_auto_flow": null,
            "grid_auto_rows": null,
            "grid_column": null,
            "grid_gap": null,
            "grid_row": null,
            "grid_template_areas": null,
            "grid_template_columns": null,
            "grid_template_rows": null,
            "height": null,
            "justify_content": null,
            "justify_items": null,
            "left": null,
            "margin": null,
            "max_height": null,
            "max_width": null,
            "min_height": null,
            "min_width": null,
            "object_fit": null,
            "object_position": null,
            "order": null,
            "overflow": null,
            "overflow_x": null,
            "overflow_y": null,
            "padding": null,
            "right": null,
            "top": null,
            "visibility": null,
            "width": null
          }
        },
        "95937582c4974e3f85ee6c408fd72010": {
          "model_module": "@jupyter-widgets/controls",
          "model_module_version": "1.5.0",
          "model_name": "HBoxModel",
          "state": {
            "_dom_classes": [],
            "_model_module": "@jupyter-widgets/controls",
            "_model_module_version": "1.5.0",
            "_model_name": "HBoxModel",
            "_view_count": null,
            "_view_module": "@jupyter-widgets/controls",
            "_view_module_version": "1.5.0",
            "_view_name": "HBoxView",
            "box_style": "",
            "children": [
              "IPY_MODEL_46dcc79da11040fc91d1105fdf027e54",
              "IPY_MODEL_0e7273f8dd904a2bb1270d7ab6cb04ac",
              "IPY_MODEL_199b8860ec7149d9b0234967cbb94902"
            ],
            "layout": "IPY_MODEL_c1016dfccc7747cd942f0cda3bb8e577"
          }
        },
        "96ec05bbfae0415a879e22823838ab80": {
          "model_module": "@jupyter-widgets/controls",
          "model_module_version": "1.5.0",
          "model_name": "ProgressStyleModel",
          "state": {
            "_model_module": "@jupyter-widgets/controls",
            "_model_module_version": "1.5.0",
            "_model_name": "ProgressStyleModel",
            "_view_count": null,
            "_view_module": "@jupyter-widgets/base",
            "_view_module_version": "1.2.0",
            "_view_name": "StyleView",
            "bar_color": null,
            "description_width": ""
          }
        },
        "97fbe23c076f45a7943b9a3124e54ed4": {
          "model_module": "@jupyter-widgets/base",
          "model_module_version": "1.2.0",
          "model_name": "LayoutModel",
          "state": {
            "_model_module": "@jupyter-widgets/base",
            "_model_module_version": "1.2.0",
            "_model_name": "LayoutModel",
            "_view_count": null,
            "_view_module": "@jupyter-widgets/base",
            "_view_module_version": "1.2.0",
            "_view_name": "LayoutView",
            "align_content": null,
            "align_items": null,
            "align_self": null,
            "border": null,
            "bottom": null,
            "display": null,
            "flex": null,
            "flex_flow": null,
            "grid_area": null,
            "grid_auto_columns": null,
            "grid_auto_flow": null,
            "grid_auto_rows": null,
            "grid_column": null,
            "grid_gap": null,
            "grid_row": null,
            "grid_template_areas": null,
            "grid_template_columns": null,
            "grid_template_rows": null,
            "height": null,
            "justify_content": null,
            "justify_items": null,
            "left": null,
            "margin": null,
            "max_height": null,
            "max_width": null,
            "min_height": null,
            "min_width": null,
            "object_fit": null,
            "object_position": null,
            "order": null,
            "overflow": null,
            "overflow_x": null,
            "overflow_y": null,
            "padding": null,
            "right": null,
            "top": null,
            "visibility": null,
            "width": null
          }
        },
        "999595828ddb471099d12eecd7fae3f7": {
          "model_module": "@jupyter-widgets/controls",
          "model_module_version": "1.5.0",
          "model_name": "HTMLModel",
          "state": {
            "_dom_classes": [],
            "_model_module": "@jupyter-widgets/controls",
            "_model_module_version": "1.5.0",
            "_model_name": "HTMLModel",
            "_view_count": null,
            "_view_module": "@jupyter-widgets/controls",
            "_view_module_version": "1.5.0",
            "_view_name": "HTMLView",
            "description": "",
            "description_tooltip": null,
            "layout": "IPY_MODEL_21f03b5d6c214b4881bf5b0f1c77b3f1",
            "placeholder": "​",
            "style": "IPY_MODEL_b2851423701d40579d1054ba1a8fba53",
            "value": " 499M/499M [00:02&lt;00:00, 235MB/s]"
          }
        },
        "99bcfd07b7504cc39e5a88448a1e11f1": {
          "model_module": "@jupyter-widgets/controls",
          "model_module_version": "1.5.0",
          "model_name": "HBoxModel",
          "state": {
            "_dom_classes": [],
            "_model_module": "@jupyter-widgets/controls",
            "_model_module_version": "1.5.0",
            "_model_name": "HBoxModel",
            "_view_count": null,
            "_view_module": "@jupyter-widgets/controls",
            "_view_module_version": "1.5.0",
            "_view_name": "HBoxView",
            "box_style": "",
            "children": [
              "IPY_MODEL_8f169a0738ff434aa134b88010bc0aa2",
              "IPY_MODEL_7baaaf0d25944d75adea471f30cf5f15",
              "IPY_MODEL_d5dcaccfb925408893a1b2425341d4e8"
            ],
            "layout": "IPY_MODEL_d58468c762c445d39863e2894901234f"
          }
        },
        "9f288bc415044f4a81d84b88742be54b": {
          "model_module": "@jupyter-widgets/base",
          "model_module_version": "1.2.0",
          "model_name": "LayoutModel",
          "state": {
            "_model_module": "@jupyter-widgets/base",
            "_model_module_version": "1.2.0",
            "_model_name": "LayoutModel",
            "_view_count": null,
            "_view_module": "@jupyter-widgets/base",
            "_view_module_version": "1.2.0",
            "_view_name": "LayoutView",
            "align_content": null,
            "align_items": null,
            "align_self": null,
            "border": null,
            "bottom": null,
            "display": null,
            "flex": null,
            "flex_flow": null,
            "grid_area": null,
            "grid_auto_columns": null,
            "grid_auto_flow": null,
            "grid_auto_rows": null,
            "grid_column": null,
            "grid_gap": null,
            "grid_row": null,
            "grid_template_areas": null,
            "grid_template_columns": null,
            "grid_template_rows": null,
            "height": null,
            "justify_content": null,
            "justify_items": null,
            "left": null,
            "margin": null,
            "max_height": null,
            "max_width": null,
            "min_height": null,
            "min_width": null,
            "object_fit": null,
            "object_position": null,
            "order": null,
            "overflow": null,
            "overflow_x": null,
            "overflow_y": null,
            "padding": null,
            "right": null,
            "top": null,
            "visibility": null,
            "width": null
          }
        },
        "a04dd74471b748789e9cb6137494f980": {
          "model_module": "@jupyter-widgets/base",
          "model_module_version": "1.2.0",
          "model_name": "LayoutModel",
          "state": {
            "_model_module": "@jupyter-widgets/base",
            "_model_module_version": "1.2.0",
            "_model_name": "LayoutModel",
            "_view_count": null,
            "_view_module": "@jupyter-widgets/base",
            "_view_module_version": "1.2.0",
            "_view_name": "LayoutView",
            "align_content": null,
            "align_items": null,
            "align_self": null,
            "border": null,
            "bottom": null,
            "display": null,
            "flex": null,
            "flex_flow": null,
            "grid_area": null,
            "grid_auto_columns": null,
            "grid_auto_flow": null,
            "grid_auto_rows": null,
            "grid_column": null,
            "grid_gap": null,
            "grid_row": null,
            "grid_template_areas": null,
            "grid_template_columns": null,
            "grid_template_rows": null,
            "height": null,
            "justify_content": null,
            "justify_items": null,
            "left": null,
            "margin": null,
            "max_height": null,
            "max_width": null,
            "min_height": null,
            "min_width": null,
            "object_fit": null,
            "object_position": null,
            "order": null,
            "overflow": null,
            "overflow_x": null,
            "overflow_y": null,
            "padding": null,
            "right": null,
            "top": null,
            "visibility": null,
            "width": null
          }
        },
        "a3ab9c761f8a4c719d41391209c7e986": {
          "model_module": "@jupyter-widgets/controls",
          "model_module_version": "1.5.0",
          "model_name": "ProgressStyleModel",
          "state": {
            "_model_module": "@jupyter-widgets/controls",
            "_model_module_version": "1.5.0",
            "_model_name": "ProgressStyleModel",
            "_view_count": null,
            "_view_module": "@jupyter-widgets/base",
            "_view_module_version": "1.2.0",
            "_view_name": "StyleView",
            "bar_color": null,
            "description_width": ""
          }
        },
        "a5518ffefbfc4bab827cde0dd7d9ff74": {
          "model_module": "@jupyter-widgets/controls",
          "model_module_version": "1.5.0",
          "model_name": "FloatProgressModel",
          "state": {
            "_dom_classes": [],
            "_model_module": "@jupyter-widgets/controls",
            "_model_module_version": "1.5.0",
            "_model_name": "FloatProgressModel",
            "_view_count": null,
            "_view_module": "@jupyter-widgets/controls",
            "_view_module_version": "1.5.0",
            "_view_name": "ProgressView",
            "bar_style": "success",
            "description": "",
            "description_tooltip": null,
            "layout": "IPY_MODEL_064d1e30adb342098683d59801764147",
            "max": 1355863,
            "min": 0,
            "orientation": "horizontal",
            "style": "IPY_MODEL_96ec05bbfae0415a879e22823838ab80",
            "value": 1355863
          }
        },
        "a596f619fd3941fda484f4dcd6fdec1b": {
          "model_module": "@jupyter-widgets/controls",
          "model_module_version": "1.5.0",
          "model_name": "FloatProgressModel",
          "state": {
            "_dom_classes": [],
            "_model_module": "@jupyter-widgets/controls",
            "_model_module_version": "1.5.0",
            "_model_name": "FloatProgressModel",
            "_view_count": null,
            "_view_module": "@jupyter-widgets/controls",
            "_view_module_version": "1.5.0",
            "_view_name": "ProgressView",
            "bar_style": "success",
            "description": "",
            "description_tooltip": null,
            "layout": "IPY_MODEL_f50b0d2a0c8e4e96a5d3b17728e361a6",
            "max": 498818054,
            "min": 0,
            "orientation": "horizontal",
            "style": "IPY_MODEL_cf56dca5c9d84a0abcd94faecd6d201e",
            "value": 498818054
          }
        },
        "acabd3bfa81349418ac7849ce8630ba6": {
          "model_module": "@jupyter-widgets/controls",
          "model_module_version": "1.5.0",
          "model_name": "ProgressStyleModel",
          "state": {
            "_model_module": "@jupyter-widgets/controls",
            "_model_module_version": "1.5.0",
            "_model_name": "ProgressStyleModel",
            "_view_count": null,
            "_view_module": "@jupyter-widgets/base",
            "_view_module_version": "1.2.0",
            "_view_name": "StyleView",
            "bar_color": null,
            "description_width": ""
          }
        },
        "b062d36949af4c5fa19d730ae4b0891b": {
          "model_module": "@jupyter-widgets/controls",
          "model_module_version": "1.5.0",
          "model_name": "DescriptionStyleModel",
          "state": {
            "_model_module": "@jupyter-widgets/controls",
            "_model_module_version": "1.5.0",
            "_model_name": "DescriptionStyleModel",
            "_view_count": null,
            "_view_module": "@jupyter-widgets/base",
            "_view_module_version": "1.2.0",
            "_view_name": "StyleView",
            "description_width": ""
          }
        },
        "b2420d40b37d4fe6a9c2037bce50ecc7": {
          "model_module": "@jupyter-widgets/controls",
          "model_module_version": "1.5.0",
          "model_name": "HBoxModel",
          "state": {
            "_dom_classes": [],
            "_model_module": "@jupyter-widgets/controls",
            "_model_module_version": "1.5.0",
            "_model_name": "HBoxModel",
            "_view_count": null,
            "_view_module": "@jupyter-widgets/controls",
            "_view_module_version": "1.5.0",
            "_view_name": "HBoxView",
            "box_style": "",
            "children": [
              "IPY_MODEL_88a1778c9fae44f399f225d062224b61",
              "IPY_MODEL_a596f619fd3941fda484f4dcd6fdec1b",
              "IPY_MODEL_999595828ddb471099d12eecd7fae3f7"
            ],
            "layout": "IPY_MODEL_f3aee0a0fd7e4ac888eae721644d9279"
          }
        },
        "b2851423701d40579d1054ba1a8fba53": {
          "model_module": "@jupyter-widgets/controls",
          "model_module_version": "1.5.0",
          "model_name": "DescriptionStyleModel",
          "state": {
            "_model_module": "@jupyter-widgets/controls",
            "_model_module_version": "1.5.0",
            "_model_name": "DescriptionStyleModel",
            "_view_count": null,
            "_view_module": "@jupyter-widgets/base",
            "_view_module_version": "1.2.0",
            "_view_name": "StyleView",
            "description_width": ""
          }
        },
        "b425e0b5d2724557b7526f4b37561ee1": {
          "model_module": "@jupyter-widgets/controls",
          "model_module_version": "1.5.0",
          "model_name": "HTMLModel",
          "state": {
            "_dom_classes": [],
            "_model_module": "@jupyter-widgets/controls",
            "_model_module_version": "1.5.0",
            "_model_name": "HTMLModel",
            "_view_count": null,
            "_view_module": "@jupyter-widgets/controls",
            "_view_module_version": "1.5.0",
            "_view_name": "HTMLView",
            "description": "",
            "description_tooltip": null,
            "layout": "IPY_MODEL_24ccc9a0dd224c5db0b39c89074c69dc",
            "placeholder": "​",
            "style": "IPY_MODEL_33bf36b41d8548debcd2eb4f1ab69eb2",
            "value": "merges.txt: 100%"
          }
        },
        "bd93febaabbf4fa8b0c4fce8d6919840": {
          "model_module": "@jupyter-widgets/base",
          "model_module_version": "1.2.0",
          "model_name": "LayoutModel",
          "state": {
            "_model_module": "@jupyter-widgets/base",
            "_model_module_version": "1.2.0",
            "_model_name": "LayoutModel",
            "_view_count": null,
            "_view_module": "@jupyter-widgets/base",
            "_view_module_version": "1.2.0",
            "_view_name": "LayoutView",
            "align_content": null,
            "align_items": null,
            "align_self": null,
            "border": null,
            "bottom": null,
            "display": null,
            "flex": null,
            "flex_flow": null,
            "grid_area": null,
            "grid_auto_columns": null,
            "grid_auto_flow": null,
            "grid_auto_rows": null,
            "grid_column": null,
            "grid_gap": null,
            "grid_row": null,
            "grid_template_areas": null,
            "grid_template_columns": null,
            "grid_template_rows": null,
            "height": null,
            "justify_content": null,
            "justify_items": null,
            "left": null,
            "margin": null,
            "max_height": null,
            "max_width": null,
            "min_height": null,
            "min_width": null,
            "object_fit": null,
            "object_position": null,
            "order": null,
            "overflow": null,
            "overflow_x": null,
            "overflow_y": null,
            "padding": null,
            "right": null,
            "top": null,
            "visibility": null,
            "width": null
          }
        },
        "bdfe3b515b8346e0a4e182d461186646": {
          "model_module": "@jupyter-widgets/controls",
          "model_module_version": "1.5.0",
          "model_name": "HTMLModel",
          "state": {
            "_dom_classes": [],
            "_model_module": "@jupyter-widgets/controls",
            "_model_module_version": "1.5.0",
            "_model_name": "HTMLModel",
            "_view_count": null,
            "_view_module": "@jupyter-widgets/controls",
            "_view_module_version": "1.5.0",
            "_view_name": "HTMLView",
            "description": "",
            "description_tooltip": null,
            "layout": "IPY_MODEL_603b60eabb434476a30261e1c8e5de20",
            "placeholder": "​",
            "style": "IPY_MODEL_eb9312cace6a443d8e4c60c6c78c2cfa",
            "value": "tokenizer.json: 100%"
          }
        },
        "bf599b97c3f34aa3ba01446f430ae188": {
          "model_module": "@jupyter-widgets/base",
          "model_module_version": "1.2.0",
          "model_name": "LayoutModel",
          "state": {
            "_model_module": "@jupyter-widgets/base",
            "_model_module_version": "1.2.0",
            "_model_name": "LayoutModel",
            "_view_count": null,
            "_view_module": "@jupyter-widgets/base",
            "_view_module_version": "1.2.0",
            "_view_name": "LayoutView",
            "align_content": null,
            "align_items": null,
            "align_self": null,
            "border": null,
            "bottom": null,
            "display": null,
            "flex": null,
            "flex_flow": null,
            "grid_area": null,
            "grid_auto_columns": null,
            "grid_auto_flow": null,
            "grid_auto_rows": null,
            "grid_column": null,
            "grid_gap": null,
            "grid_row": null,
            "grid_template_areas": null,
            "grid_template_columns": null,
            "grid_template_rows": null,
            "height": null,
            "justify_content": null,
            "justify_items": null,
            "left": null,
            "margin": null,
            "max_height": null,
            "max_width": null,
            "min_height": null,
            "min_width": null,
            "object_fit": null,
            "object_position": null,
            "order": null,
            "overflow": null,
            "overflow_x": null,
            "overflow_y": null,
            "padding": null,
            "right": null,
            "top": null,
            "visibility": null,
            "width": null
          }
        },
        "c1016dfccc7747cd942f0cda3bb8e577": {
          "model_module": "@jupyter-widgets/base",
          "model_module_version": "1.2.0",
          "model_name": "LayoutModel",
          "state": {
            "_model_module": "@jupyter-widgets/base",
            "_model_module_version": "1.2.0",
            "_model_name": "LayoutModel",
            "_view_count": null,
            "_view_module": "@jupyter-widgets/base",
            "_view_module_version": "1.2.0",
            "_view_name": "LayoutView",
            "align_content": null,
            "align_items": null,
            "align_self": null,
            "border": null,
            "bottom": null,
            "display": null,
            "flex": null,
            "flex_flow": null,
            "grid_area": null,
            "grid_auto_columns": null,
            "grid_auto_flow": null,
            "grid_auto_rows": null,
            "grid_column": null,
            "grid_gap": null,
            "grid_row": null,
            "grid_template_areas": null,
            "grid_template_columns": null,
            "grid_template_rows": null,
            "height": null,
            "justify_content": null,
            "justify_items": null,
            "left": null,
            "margin": null,
            "max_height": null,
            "max_width": null,
            "min_height": null,
            "min_width": null,
            "object_fit": null,
            "object_position": null,
            "order": null,
            "overflow": null,
            "overflow_x": null,
            "overflow_y": null,
            "padding": null,
            "right": null,
            "top": null,
            "visibility": null,
            "width": null
          }
        },
        "c15e281123fc49ffaec407a2f3c7c3f7": {
          "model_module": "@jupyter-widgets/base",
          "model_module_version": "1.2.0",
          "model_name": "LayoutModel",
          "state": {
            "_model_module": "@jupyter-widgets/base",
            "_model_module_version": "1.2.0",
            "_model_name": "LayoutModel",
            "_view_count": null,
            "_view_module": "@jupyter-widgets/base",
            "_view_module_version": "1.2.0",
            "_view_name": "LayoutView",
            "align_content": null,
            "align_items": null,
            "align_self": null,
            "border": null,
            "bottom": null,
            "display": null,
            "flex": null,
            "flex_flow": null,
            "grid_area": null,
            "grid_auto_columns": null,
            "grid_auto_flow": null,
            "grid_auto_rows": null,
            "grid_column": null,
            "grid_gap": null,
            "grid_row": null,
            "grid_template_areas": null,
            "grid_template_columns": null,
            "grid_template_rows": null,
            "height": null,
            "justify_content": null,
            "justify_items": null,
            "left": null,
            "margin": null,
            "max_height": null,
            "max_width": null,
            "min_height": null,
            "min_width": null,
            "object_fit": null,
            "object_position": null,
            "order": null,
            "overflow": null,
            "overflow_x": null,
            "overflow_y": null,
            "padding": null,
            "right": null,
            "top": null,
            "visibility": null,
            "width": null
          }
        },
        "c2421e1e1cd94ff598e3ab9b7d88aca5": {
          "model_module": "@jupyter-widgets/base",
          "model_module_version": "1.2.0",
          "model_name": "LayoutModel",
          "state": {
            "_model_module": "@jupyter-widgets/base",
            "_model_module_version": "1.2.0",
            "_model_name": "LayoutModel",
            "_view_count": null,
            "_view_module": "@jupyter-widgets/base",
            "_view_module_version": "1.2.0",
            "_view_name": "LayoutView",
            "align_content": null,
            "align_items": null,
            "align_self": null,
            "border": null,
            "bottom": null,
            "display": null,
            "flex": null,
            "flex_flow": null,
            "grid_area": null,
            "grid_auto_columns": null,
            "grid_auto_flow": null,
            "grid_auto_rows": null,
            "grid_column": null,
            "grid_gap": null,
            "grid_row": null,
            "grid_template_areas": null,
            "grid_template_columns": null,
            "grid_template_rows": null,
            "height": null,
            "justify_content": null,
            "justify_items": null,
            "left": null,
            "margin": null,
            "max_height": null,
            "max_width": null,
            "min_height": null,
            "min_width": null,
            "object_fit": null,
            "object_position": null,
            "order": null,
            "overflow": null,
            "overflow_x": null,
            "overflow_y": null,
            "padding": null,
            "right": null,
            "top": null,
            "visibility": null,
            "width": null
          }
        },
        "c4e3ddbd48124f6ca4260b0fee4581fc": {
          "model_module": "@jupyter-widgets/controls",
          "model_module_version": "1.5.0",
          "model_name": "HTMLModel",
          "state": {
            "_dom_classes": [],
            "_model_module": "@jupyter-widgets/controls",
            "_model_module_version": "1.5.0",
            "_model_name": "HTMLModel",
            "_view_count": null,
            "_view_module": "@jupyter-widgets/controls",
            "_view_module_version": "1.5.0",
            "_view_name": "HTMLView",
            "description": "",
            "description_tooltip": null,
            "layout": "IPY_MODEL_a04dd74471b748789e9cb6137494f980",
            "placeholder": "​",
            "style": "IPY_MODEL_11641cbfa29443938cc10fc5fbcf72bf",
            "value": "config.json: 100%"
          }
        },
        "c4fef5580f6844adbd1444798392a968": {
          "model_module": "@jupyter-widgets/controls",
          "model_module_version": "1.5.0",
          "model_name": "DescriptionStyleModel",
          "state": {
            "_model_module": "@jupyter-widgets/controls",
            "_model_module_version": "1.5.0",
            "_model_name": "DescriptionStyleModel",
            "_view_count": null,
            "_view_module": "@jupyter-widgets/base",
            "_view_module_version": "1.2.0",
            "_view_name": "StyleView",
            "description_width": ""
          }
        },
        "cb4cc571c45c4482b1cc92d2d2c46e18": {
          "model_module": "@jupyter-widgets/base",
          "model_module_version": "1.2.0",
          "model_name": "LayoutModel",
          "state": {
            "_model_module": "@jupyter-widgets/base",
            "_model_module_version": "1.2.0",
            "_model_name": "LayoutModel",
            "_view_count": null,
            "_view_module": "@jupyter-widgets/base",
            "_view_module_version": "1.2.0",
            "_view_name": "LayoutView",
            "align_content": null,
            "align_items": null,
            "align_self": null,
            "border": null,
            "bottom": null,
            "display": null,
            "flex": null,
            "flex_flow": null,
            "grid_area": null,
            "grid_auto_columns": null,
            "grid_auto_flow": null,
            "grid_auto_rows": null,
            "grid_column": null,
            "grid_gap": null,
            "grid_row": null,
            "grid_template_areas": null,
            "grid_template_columns": null,
            "grid_template_rows": null,
            "height": null,
            "justify_content": null,
            "justify_items": null,
            "left": null,
            "margin": null,
            "max_height": null,
            "max_width": null,
            "min_height": null,
            "min_width": null,
            "object_fit": null,
            "object_position": null,
            "order": null,
            "overflow": null,
            "overflow_x": null,
            "overflow_y": null,
            "padding": null,
            "right": null,
            "top": null,
            "visibility": null,
            "width": null
          }
        },
        "cd74135345974b15bdc5a2feb70a90af": {
          "model_module": "@jupyter-widgets/controls",
          "model_module_version": "1.5.0",
          "model_name": "ProgressStyleModel",
          "state": {
            "_model_module": "@jupyter-widgets/controls",
            "_model_module_version": "1.5.0",
            "_model_name": "ProgressStyleModel",
            "_view_count": null,
            "_view_module": "@jupyter-widgets/base",
            "_view_module_version": "1.2.0",
            "_view_name": "StyleView",
            "bar_color": null,
            "description_width": ""
          }
        },
        "cf56dca5c9d84a0abcd94faecd6d201e": {
          "model_module": "@jupyter-widgets/controls",
          "model_module_version": "1.5.0",
          "model_name": "ProgressStyleModel",
          "state": {
            "_model_module": "@jupyter-widgets/controls",
            "_model_module_version": "1.5.0",
            "_model_name": "ProgressStyleModel",
            "_view_count": null,
            "_view_module": "@jupyter-widgets/base",
            "_view_module_version": "1.2.0",
            "_view_name": "StyleView",
            "bar_color": null,
            "description_width": ""
          }
        },
        "d24831a8ae61415daf76bd7c59e8ee69": {
          "model_module": "@jupyter-widgets/controls",
          "model_module_version": "1.5.0",
          "model_name": "DescriptionStyleModel",
          "state": {
            "_model_module": "@jupyter-widgets/controls",
            "_model_module_version": "1.5.0",
            "_model_name": "DescriptionStyleModel",
            "_view_count": null,
            "_view_module": "@jupyter-widgets/base",
            "_view_module_version": "1.2.0",
            "_view_name": "StyleView",
            "description_width": ""
          }
        },
        "d58468c762c445d39863e2894901234f": {
          "model_module": "@jupyter-widgets/base",
          "model_module_version": "1.2.0",
          "model_name": "LayoutModel",
          "state": {
            "_model_module": "@jupyter-widgets/base",
            "_model_module_version": "1.2.0",
            "_model_name": "LayoutModel",
            "_view_count": null,
            "_view_module": "@jupyter-widgets/base",
            "_view_module_version": "1.2.0",
            "_view_name": "LayoutView",
            "align_content": null,
            "align_items": null,
            "align_self": null,
            "border": null,
            "bottom": null,
            "display": null,
            "flex": null,
            "flex_flow": null,
            "grid_area": null,
            "grid_auto_columns": null,
            "grid_auto_flow": null,
            "grid_auto_rows": null,
            "grid_column": null,
            "grid_gap": null,
            "grid_row": null,
            "grid_template_areas": null,
            "grid_template_columns": null,
            "grid_template_rows": null,
            "height": null,
            "justify_content": null,
            "justify_items": null,
            "left": null,
            "margin": null,
            "max_height": null,
            "max_width": null,
            "min_height": null,
            "min_width": null,
            "object_fit": null,
            "object_position": null,
            "order": null,
            "overflow": null,
            "overflow_x": null,
            "overflow_y": null,
            "padding": null,
            "right": null,
            "top": null,
            "visibility": null,
            "width": null
          }
        },
        "d5dcaccfb925408893a1b2425341d4e8": {
          "model_module": "@jupyter-widgets/controls",
          "model_module_version": "1.5.0",
          "model_name": "HTMLModel",
          "state": {
            "_dom_classes": [],
            "_model_module": "@jupyter-widgets/controls",
            "_model_module_version": "1.5.0",
            "_model_name": "HTMLModel",
            "_view_count": null,
            "_view_module": "@jupyter-widgets/controls",
            "_view_module_version": "1.5.0",
            "_view_name": "HTMLView",
            "description": "",
            "description_tooltip": null,
            "layout": "IPY_MODEL_602cd7bfeb18469f8fa008b01ba27353",
            "placeholder": "​",
            "style": "IPY_MODEL_40f66c3d362140b692429b9a30001a17",
            "value": " 558M/558M [00:02&lt;00:00, 239MB/s]"
          }
        },
        "d7b046fe20774ecfa6b19a623c6bacfe": {
          "model_module": "@jupyter-widgets/controls",
          "model_module_version": "1.5.0",
          "model_name": "HTMLModel",
          "state": {
            "_dom_classes": [],
            "_model_module": "@jupyter-widgets/controls",
            "_model_module_version": "1.5.0",
            "_model_name": "HTMLModel",
            "_view_count": null,
            "_view_module": "@jupyter-widgets/controls",
            "_view_module_version": "1.5.0",
            "_view_name": "HTMLView",
            "description": "",
            "description_tooltip": null,
            "layout": "IPY_MODEL_35ca3cd790f54264bd9da3e7305abe31",
            "placeholder": "​",
            "style": "IPY_MODEL_6bcfb4967a284bffadf3c40ff7a92044",
            "value": "vocab.json: 100%"
          }
        },
        "d840923a6f75429ba655349b55fd3b37": {
          "model_module": "@jupyter-widgets/controls",
          "model_module_version": "1.5.0",
          "model_name": "FloatProgressModel",
          "state": {
            "_dom_classes": [],
            "_model_module": "@jupyter-widgets/controls",
            "_model_module_version": "1.5.0",
            "_model_name": "FloatProgressModel",
            "_view_count": null,
            "_view_module": "@jupyter-widgets/controls",
            "_view_module_version": "1.5.0",
            "_view_name": "ProgressView",
            "bar_style": "success",
            "description": "",
            "description_tooltip": null,
            "layout": "IPY_MODEL_68a2dfe34a514fd7814589bf26f08348",
            "max": 25,
            "min": 0,
            "orientation": "horizontal",
            "style": "IPY_MODEL_854841aa3ef548168600bf7f751bdfa5",
            "value": 25
          }
        },
        "da78e91f32db493a9fdd797d07918c6f": {
          "model_module": "@jupyter-widgets/controls",
          "model_module_version": "1.5.0",
          "model_name": "DescriptionStyleModel",
          "state": {
            "_model_module": "@jupyter-widgets/controls",
            "_model_module_version": "1.5.0",
            "_model_name": "DescriptionStyleModel",
            "_view_count": null,
            "_view_module": "@jupyter-widgets/base",
            "_view_module_version": "1.2.0",
            "_view_name": "StyleView",
            "description_width": ""
          }
        },
        "de376d443fc44a3d9e76f722c4715cbd": {
          "model_module": "@jupyter-widgets/controls",
          "model_module_version": "1.5.0",
          "model_name": "HTMLModel",
          "state": {
            "_dom_classes": [],
            "_model_module": "@jupyter-widgets/controls",
            "_model_module_version": "1.5.0",
            "_model_name": "HTMLModel",
            "_view_count": null,
            "_view_module": "@jupyter-widgets/controls",
            "_view_module_version": "1.5.0",
            "_view_name": "HTMLView",
            "description": "",
            "description_tooltip": null,
            "layout": "IPY_MODEL_e2867499d1684a8f97d2295e9ede8577",
            "placeholder": "​",
            "style": "IPY_MODEL_62b616af593e47c88bba9d3298ac143b",
            "value": " 1.72k/1.72k [00:00&lt;00:00, 130kB/s]"
          }
        },
        "de7d023c68e740a2ba659c86f74a7c7d": {
          "model_module": "@jupyter-widgets/base",
          "model_module_version": "1.2.0",
          "model_name": "LayoutModel",
          "state": {
            "_model_module": "@jupyter-widgets/base",
            "_model_module_version": "1.2.0",
            "_model_name": "LayoutModel",
            "_view_count": null,
            "_view_module": "@jupyter-widgets/base",
            "_view_module_version": "1.2.0",
            "_view_name": "LayoutView",
            "align_content": null,
            "align_items": null,
            "align_self": null,
            "border": null,
            "bottom": null,
            "display": null,
            "flex": null,
            "flex_flow": null,
            "grid_area": null,
            "grid_auto_columns": null,
            "grid_auto_flow": null,
            "grid_auto_rows": null,
            "grid_column": null,
            "grid_gap": null,
            "grid_row": null,
            "grid_template_areas": null,
            "grid_template_columns": null,
            "grid_template_rows": null,
            "height": null,
            "justify_content": null,
            "justify_items": null,
            "left": null,
            "margin": null,
            "max_height": null,
            "max_width": null,
            "min_height": null,
            "min_width": null,
            "object_fit": null,
            "object_position": null,
            "order": null,
            "overflow": null,
            "overflow_x": null,
            "overflow_y": null,
            "padding": null,
            "right": null,
            "top": null,
            "visibility": null,
            "width": null
          }
        },
        "e150a95242bc4a4694ae4665a1245ddd": {
          "model_module": "@jupyter-widgets/base",
          "model_module_version": "1.2.0",
          "model_name": "LayoutModel",
          "state": {
            "_model_module": "@jupyter-widgets/base",
            "_model_module_version": "1.2.0",
            "_model_name": "LayoutModel",
            "_view_count": null,
            "_view_module": "@jupyter-widgets/base",
            "_view_module_version": "1.2.0",
            "_view_name": "LayoutView",
            "align_content": null,
            "align_items": null,
            "align_self": null,
            "border": null,
            "bottom": null,
            "display": null,
            "flex": null,
            "flex_flow": null,
            "grid_area": null,
            "grid_auto_columns": null,
            "grid_auto_flow": null,
            "grid_auto_rows": null,
            "grid_column": null,
            "grid_gap": null,
            "grid_row": null,
            "grid_template_areas": null,
            "grid_template_columns": null,
            "grid_template_rows": null,
            "height": null,
            "justify_content": null,
            "justify_items": null,
            "left": null,
            "margin": null,
            "max_height": null,
            "max_width": null,
            "min_height": null,
            "min_width": null,
            "object_fit": null,
            "object_position": null,
            "order": null,
            "overflow": null,
            "overflow_x": null,
            "overflow_y": null,
            "padding": null,
            "right": null,
            "top": null,
            "visibility": null,
            "width": null
          }
        },
        "e2867499d1684a8f97d2295e9ede8577": {
          "model_module": "@jupyter-widgets/base",
          "model_module_version": "1.2.0",
          "model_name": "LayoutModel",
          "state": {
            "_model_module": "@jupyter-widgets/base",
            "_model_module_version": "1.2.0",
            "_model_name": "LayoutModel",
            "_view_count": null,
            "_view_module": "@jupyter-widgets/base",
            "_view_module_version": "1.2.0",
            "_view_name": "LayoutView",
            "align_content": null,
            "align_items": null,
            "align_self": null,
            "border": null,
            "bottom": null,
            "display": null,
            "flex": null,
            "flex_flow": null,
            "grid_area": null,
            "grid_auto_columns": null,
            "grid_auto_flow": null,
            "grid_auto_rows": null,
            "grid_column": null,
            "grid_gap": null,
            "grid_row": null,
            "grid_template_areas": null,
            "grid_template_columns": null,
            "grid_template_rows": null,
            "height": null,
            "justify_content": null,
            "justify_items": null,
            "left": null,
            "margin": null,
            "max_height": null,
            "max_width": null,
            "min_height": null,
            "min_width": null,
            "object_fit": null,
            "object_position": null,
            "order": null,
            "overflow": null,
            "overflow_x": null,
            "overflow_y": null,
            "padding": null,
            "right": null,
            "top": null,
            "visibility": null,
            "width": null
          }
        },
        "eb9312cace6a443d8e4c60c6c78c2cfa": {
          "model_module": "@jupyter-widgets/controls",
          "model_module_version": "1.5.0",
          "model_name": "DescriptionStyleModel",
          "state": {
            "_model_module": "@jupyter-widgets/controls",
            "_model_module_version": "1.5.0",
            "_model_name": "DescriptionStyleModel",
            "_view_count": null,
            "_view_module": "@jupyter-widgets/base",
            "_view_module_version": "1.2.0",
            "_view_name": "StyleView",
            "description_width": ""
          }
        },
        "f384b5c791f8411ca4fca9b584c69ca0": {
          "model_module": "@jupyter-widgets/base",
          "model_module_version": "1.2.0",
          "model_name": "LayoutModel",
          "state": {
            "_model_module": "@jupyter-widgets/base",
            "_model_module_version": "1.2.0",
            "_model_name": "LayoutModel",
            "_view_count": null,
            "_view_module": "@jupyter-widgets/base",
            "_view_module_version": "1.2.0",
            "_view_name": "LayoutView",
            "align_content": null,
            "align_items": null,
            "align_self": null,
            "border": null,
            "bottom": null,
            "display": null,
            "flex": null,
            "flex_flow": null,
            "grid_area": null,
            "grid_auto_columns": null,
            "grid_auto_flow": null,
            "grid_auto_rows": null,
            "grid_column": null,
            "grid_gap": null,
            "grid_row": null,
            "grid_template_areas": null,
            "grid_template_columns": null,
            "grid_template_rows": null,
            "height": null,
            "justify_content": null,
            "justify_items": null,
            "left": null,
            "margin": null,
            "max_height": null,
            "max_width": null,
            "min_height": null,
            "min_width": null,
            "object_fit": null,
            "object_position": null,
            "order": null,
            "overflow": null,
            "overflow_x": null,
            "overflow_y": null,
            "padding": null,
            "right": null,
            "top": null,
            "visibility": null,
            "width": null
          }
        },
        "f3aee0a0fd7e4ac888eae721644d9279": {
          "model_module": "@jupyter-widgets/base",
          "model_module_version": "1.2.0",
          "model_name": "LayoutModel",
          "state": {
            "_model_module": "@jupyter-widgets/base",
            "_model_module_version": "1.2.0",
            "_model_name": "LayoutModel",
            "_view_count": null,
            "_view_module": "@jupyter-widgets/base",
            "_view_module_version": "1.2.0",
            "_view_name": "LayoutView",
            "align_content": null,
            "align_items": null,
            "align_self": null,
            "border": null,
            "bottom": null,
            "display": null,
            "flex": null,
            "flex_flow": null,
            "grid_area": null,
            "grid_auto_columns": null,
            "grid_auto_flow": null,
            "grid_auto_rows": null,
            "grid_column": null,
            "grid_gap": null,
            "grid_row": null,
            "grid_template_areas": null,
            "grid_template_columns": null,
            "grid_template_rows": null,
            "height": null,
            "justify_content": null,
            "justify_items": null,
            "left": null,
            "margin": null,
            "max_height": null,
            "max_width": null,
            "min_height": null,
            "min_width": null,
            "object_fit": null,
            "object_position": null,
            "order": null,
            "overflow": null,
            "overflow_x": null,
            "overflow_y": null,
            "padding": null,
            "right": null,
            "top": null,
            "visibility": null,
            "width": null
          }
        },
        "f50b0d2a0c8e4e96a5d3b17728e361a6": {
          "model_module": "@jupyter-widgets/base",
          "model_module_version": "1.2.0",
          "model_name": "LayoutModel",
          "state": {
            "_model_module": "@jupyter-widgets/base",
            "_model_module_version": "1.2.0",
            "_model_name": "LayoutModel",
            "_view_count": null,
            "_view_module": "@jupyter-widgets/base",
            "_view_module_version": "1.2.0",
            "_view_name": "LayoutView",
            "align_content": null,
            "align_items": null,
            "align_self": null,
            "border": null,
            "bottom": null,
            "display": null,
            "flex": null,
            "flex_flow": null,
            "grid_area": null,
            "grid_auto_columns": null,
            "grid_auto_flow": null,
            "grid_auto_rows": null,
            "grid_column": null,
            "grid_gap": null,
            "grid_row": null,
            "grid_template_areas": null,
            "grid_template_columns": null,
            "grid_template_rows": null,
            "height": null,
            "justify_content": null,
            "justify_items": null,
            "left": null,
            "margin": null,
            "max_height": null,
            "max_width": null,
            "min_height": null,
            "min_width": null,
            "object_fit": null,
            "object_position": null,
            "order": null,
            "overflow": null,
            "overflow_x": null,
            "overflow_y": null,
            "padding": null,
            "right": null,
            "top": null,
            "visibility": null,
            "width": null
          }
        },
        "f656626c9d204232b11ce881b02a4b6e": {
          "model_module": "@jupyter-widgets/controls",
          "model_module_version": "1.5.0",
          "model_name": "HBoxModel",
          "state": {
            "_dom_classes": [],
            "_model_module": "@jupyter-widgets/controls",
            "_model_module_version": "1.5.0",
            "_model_name": "HBoxModel",
            "_view_count": null,
            "_view_module": "@jupyter-widgets/controls",
            "_view_module_version": "1.5.0",
            "_view_name": "HBoxView",
            "box_style": "",
            "children": [
              "IPY_MODEL_7042a9da27924023a9a055973b2617d3",
              "IPY_MODEL_d840923a6f75429ba655349b55fd3b37",
              "IPY_MODEL_6447a8041ca94a9687f7acb1459e8547"
            ],
            "layout": "IPY_MODEL_36ae5a25935a4151a9be7a94a3095891"
          }
        },
        "f6cc1fc772cc49fe8bc74d003bf1d059": {
          "model_module": "@jupyter-widgets/controls",
          "model_module_version": "1.5.0",
          "model_name": "FloatProgressModel",
          "state": {
            "_dom_classes": [],
            "_model_module": "@jupyter-widgets/controls",
            "_model_module_version": "1.5.0",
            "_model_name": "FloatProgressModel",
            "_view_count": null,
            "_view_module": "@jupyter-widgets/controls",
            "_view_module_version": "1.5.0",
            "_view_name": "ProgressView",
            "bar_style": "success",
            "description": "",
            "description_tooltip": null,
            "layout": "IPY_MODEL_f384b5c791f8411ca4fca9b584c69ca0",
            "max": 1355863,
            "min": 0,
            "orientation": "horizontal",
            "style": "IPY_MODEL_42829f916ed8485d8e61b349652f8736",
            "value": 1355863
          }
        },
        "fa82f61cde024cda8e0097698af83ed8": {
          "model_module": "@jupyter-widgets/controls",
          "model_module_version": "1.5.0",
          "model_name": "DescriptionStyleModel",
          "state": {
            "_model_module": "@jupyter-widgets/controls",
            "_model_module_version": "1.5.0",
            "_model_name": "DescriptionStyleModel",
            "_view_count": null,
            "_view_module": "@jupyter-widgets/base",
            "_view_module_version": "1.2.0",
            "_view_name": "StyleView",
            "description_width": ""
          }
        },
        "fac6caaccb76487b94f9bcc8f1280257": {
          "model_module": "@jupyter-widgets/base",
          "model_module_version": "1.2.0",
          "model_name": "LayoutModel",
          "state": {
            "_model_module": "@jupyter-widgets/base",
            "_model_module_version": "1.2.0",
            "_model_name": "LayoutModel",
            "_view_count": null,
            "_view_module": "@jupyter-widgets/base",
            "_view_module_version": "1.2.0",
            "_view_name": "LayoutView",
            "align_content": null,
            "align_items": null,
            "align_self": null,
            "border": null,
            "bottom": null,
            "display": null,
            "flex": null,
            "flex_flow": null,
            "grid_area": null,
            "grid_auto_columns": null,
            "grid_auto_flow": null,
            "grid_auto_rows": null,
            "grid_column": null,
            "grid_gap": null,
            "grid_row": null,
            "grid_template_areas": null,
            "grid_template_columns": null,
            "grid_template_rows": null,
            "height": null,
            "justify_content": null,
            "justify_items": null,
            "left": null,
            "margin": null,
            "max_height": null,
            "max_width": null,
            "min_height": null,
            "min_width": null,
            "object_fit": null,
            "object_position": null,
            "order": null,
            "overflow": null,
            "overflow_x": null,
            "overflow_y": null,
            "padding": null,
            "right": null,
            "top": null,
            "visibility": null,
            "width": null
          }
        },
        "fc9ea96b0946438ba1f5c06140dc299a": {
          "model_module": "@jupyter-widgets/controls",
          "model_module_version": "1.5.0",
          "model_name": "DescriptionStyleModel",
          "state": {
            "_model_module": "@jupyter-widgets/controls",
            "_model_module_version": "1.5.0",
            "_model_name": "DescriptionStyleModel",
            "_view_count": null,
            "_view_module": "@jupyter-widgets/base",
            "_view_module_version": "1.2.0",
            "_view_name": "StyleView",
            "description_width": ""
          }
        },
        "fe4f5516112944d8ae35e93fc5c99a4c": {
          "model_module": "@jupyter-widgets/controls",
          "model_module_version": "1.5.0",
          "model_name": "DescriptionStyleModel",
          "state": {
            "_model_module": "@jupyter-widgets/controls",
            "_model_module_version": "1.5.0",
            "_model_name": "DescriptionStyleModel",
            "_view_count": null,
            "_view_module": "@jupyter-widgets/base",
            "_view_module_version": "1.2.0",
            "_view_name": "StyleView",
            "description_width": ""
          }
        },
        "ff54963796e046b08291a946c31f5609": {
          "model_module": "@jupyter-widgets/base",
          "model_module_version": "1.2.0",
          "model_name": "LayoutModel",
          "state": {
            "_model_module": "@jupyter-widgets/base",
            "_model_module_version": "1.2.0",
            "_model_name": "LayoutModel",
            "_view_count": null,
            "_view_module": "@jupyter-widgets/base",
            "_view_module_version": "1.2.0",
            "_view_name": "LayoutView",
            "align_content": null,
            "align_items": null,
            "align_self": null,
            "border": null,
            "bottom": null,
            "display": null,
            "flex": null,
            "flex_flow": null,
            "grid_area": null,
            "grid_auto_columns": null,
            "grid_auto_flow": null,
            "grid_auto_rows": null,
            "grid_column": null,
            "grid_gap": null,
            "grid_row": null,
            "grid_template_areas": null,
            "grid_template_columns": null,
            "grid_template_rows": null,
            "height": null,
            "justify_content": null,
            "justify_items": null,
            "left": null,
            "margin": null,
            "max_height": null,
            "max_width": null,
            "min_height": null,
            "min_width": null,
            "object_fit": null,
            "object_position": null,
            "order": null,
            "overflow": null,
            "overflow_x": null,
            "overflow_y": null,
            "padding": null,
            "right": null,
            "top": null,
            "visibility": null,
            "width": null
          }
        }
      }
    }
  },
  "nbformat": 4,
  "nbformat_minor": 0
}
